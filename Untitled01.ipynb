{
  "nbformat": 4,
  "nbformat_minor": 0,
  "metadata": {
    "colab": {
      "provenance": [],
      "toc_visible": true,
      "authorship_tag": "ABX9TyP6un7Ps96bepUxB8a5eywq",
      "include_colab_link": true
    },
    "kernelspec": {
      "name": "python3",
      "display_name": "Python 3"
    },
    "language_info": {
      "name": "python"
    }
  },
  "cells": [
    {
      "cell_type": "markdown",
      "metadata": {
        "id": "view-in-github",
        "colab_type": "text"
      },
      "source": [
        "<a href=\"https://colab.research.google.com/github/group-nai-shomu/00/blob/main/Untitled01.ipynb\" target=\"_parent\"><img src=\"https://colab.research.google.com/assets/colab-badge.svg\" alt=\"Open In Colab\"/></a>"
      ]
    },
    {
      "cell_type": "code",
      "execution_count": null,
      "metadata": {
        "id": "CpsGgDEBeJBS"
      },
      "outputs": [],
      "source": []
    },
    {
      "cell_type": "markdown",
      "source": [
        "---\n",
        "## <font color=\"SteelBlue\">はじめに</font>\n",
        "<br>\n",
        "\n",
        "- 当ページへお越しいただきましてありがとうございます。\n",
        "\n",
        "- 原告はダメダメですね。ツッコミどころ満載です(笑。\n",
        "\n",
        "- 原告へのツッコミやご感想などいただけますとありがたいです。\n",
        "<br><br>\n",
        "- 本ページは、Colabで作成しておりますが、左上の「$\\equiv$」をクリックすると目次が表示されます。\n",
        "\n",
        "- 目次が表示されましたら、マウスで幅を広げますと目次が見やすくなります。\n",
        "\n",
        "- 目次は判決文の項目です。目次をクリックすると各項目に飛ぶことができます。\n",
        "<br><br>\n",
        "<img src=\"https://1.bp.blogspot.com/-e8uRdXLFKjE/YBEIlKFPSII/AAAAAAAAAOI/9fwJZJ7cFGENViGocD36gjFeI0ZBFFN5wCLcBGAsYHQ/s685/colab.png\" width=\"400\">\n",
        "<br><br>\n",
        "- グレーの文字は、伏字です。また、ちょっとした補足もいれてます。\n",
        "\n",
        "- 文章がグダグダに長いです（笑。ですので、はじめから読むのはなかなか大変です。\n",
        "\n",
        "- 結論から見たい人は、「第３の２ [争点１について](https://colab.research.google.com/drive/1LPN3fCFr16Q4RFi-PL1iEQMsHCTGzEpu#scrollTo=MeO9tg5YDUDS)」 からご覧いただければと思います。\n",
        "<br><br>\n",
        "- 本訴訟では、裁判所は、\n",
        "\n",
        " - 内部通報制度の調査は裁量であること\n",
        "\n",
        " - 原告の通報の伝え方に問題があったこと\n",
        "\n",
        " - 被告会社の規程について裁判所なりの解釈\n",
        "\n",
        " を判示しているようです。\n",
        "\n",
        "\n"
      ],
      "metadata": {
        "id": "zbIcrYL4J6c8"
      }
    },
    {
      "cell_type": "markdown",
      "source": [
        "#####事実及び理由\n"
      ],
      "metadata": {
        "id": "W-jS5YcneP_M"
      }
    },
    {
      "cell_type": "markdown",
      "source": [
        "#####第１　請求\n",
        "\n",
        "　　被告は、原告に対し、１円を支払え。\n"
      ],
      "metadata": {
        "id": "pDifD4Q2eQyq"
      }
    },
    {
      "cell_type": "markdown",
      "source": [
        "#####第２　事案の概要\n",
        "\n",
        "　　本件は、被告の従業員である原告が、①原告のした内部通報について被告は\n",
        "\n",
        "　十分な調査等をせず、また、②内部通報を理由とする不利益な取扱いや違法な\n",
        "\n",
        "　パワーハラスメントがされ、さらに、③被告の人事考課上のフィードバックは\n",
        "\n",
        "　根拠を示しておらず、これらが信義則上の義務等に違反するなどと主張して、\n",
        "\n",
        "　被告に対し、債務不履行又は不法行為（従業員の行為については使用者責任。\n",
        "\n",
        "　以下同じ。）に基づく損害賠償として、慰謝料１円の支払を求める事案である。\n"
      ],
      "metadata": {
        "id": "1wee5HYjeaJh"
      }
    },
    {
      "cell_type": "markdown",
      "source": [
        "#####１　前提事実\n",
        "\n",
        "　　（当事者間に争いがないか、後掲各証拠［特に注記しない限り枝番号を含む。\n",
        "\n",
        "　　以下同じ。］及び弁論の全趣旨によって容易に認定できる事実）\n"
      ],
      "metadata": {
        "id": "gHvInotRecjq"
      }
    },
    {
      "cell_type": "markdown",
      "source": [
        "##### 　⑴　当事者\n",
        "\n",
        "　　<font color=\"silver\">（略）</font>\n"
      ],
      "metadata": {
        "id": "2FP0GOWcegWy"
      }
    },
    {
      "cell_type": "markdown",
      "source": [
        "##### 　⑵　事実経過\n"
      ],
      "metadata": {
        "id": "FAWWslzZelmr"
      }
    },
    {
      "cell_type": "markdown",
      "source": [
        "##### 　　<font color=\"silver\">ア　平成28年9月　本件通報１</font>\n",
        "\n",
        "　　ア　原告は、平成２８年９月<font color=\"Gainsboro\">●●</font>日、被告の社内通報窓口に対し、被告が海\n",
        "\n",
        "　　　外取引で支払った金額に付加価値税（以下「ＧＳＴ」という。）が含まれ\n",
        "\n",
        "　　　ており、そのＧＳＴの還付はオーストラリアの被告関連会社である「<font color=\"silver\">子会</font>\n",
        "\n",
        "　　　<font color=\"silver\">社</font>」（<font color=\"Gainsboro\">●●●●●●●●●●●●●●●●●●●●●</font> 。以下、単に「<font color=\"silver\">子会</font>\n",
        "\n",
        "　　　<font color=\"silver\">社</font>」という。）に納付されたなどと記載した通報用フォームをメールで送\n",
        "\n",
        "　　　信した（乙２。以下「本件通報１」という。）。\n"
      ],
      "metadata": {
        "id": "C7L7l3jSeoGy"
      }
    },
    {
      "cell_type": "markdown",
      "source": [
        "##### 　　<font color=\"silver\">イ　平成29年3月　本件移管</font>\n",
        "\n",
        "　　<font color=\"silver\">証拠がないのに「３月<font color=\"Gainsboro\">●●</font>日」が前提事実になってる！自白とされたかな。</font>\n",
        "\n",
        "　　<font color=\"silver\">業務の移管といっても、その業務に実態があったのかが不明。</font>\n",
        "\n",
        "　　イ　平成２９年３月<font color=\"Gainsboro\">●●</font>日頃、本件通報１で記載されたＧＳＴに関する業務\n",
        "\n",
        "　　　は、原告の所属していた<font color=\"Gainsboro\">●●●●●●●●●●●●●</font>グループ（以下、単\n",
        "\n",
        "　　　に「<font color=\"Gainsboro\">●●●●●●●●</font>グループ」という。）から、<font color=\"Gainsboro\">●●●●</font>グループに移\n",
        "\n",
        "　　　管された（以下「本件移管」という。）。\n"
      ],
      "metadata": {
        "id": "92Gm5gPiftnr"
      }
    },
    {
      "cell_type": "markdown",
      "source": [
        "##### 　　<font color=\"silver\">ウ　平成29年5月　平成２９年５月業務命令</font>\n",
        "\n",
        "　　ウ　原告は、平成２９年５月<font color=\"Gainsboro\">●●</font>日、<font color=\"Gainsboro\">●●●●●●●●</font>グループのグループ\n",
        "\n",
        "　　　マネージャー（以下「ＧＭ」という。）<font color=\"Gainsboro\">●●●●●</font>（以下「<font color=\"silver\">上司Ａ</font>Ｇ\n",
        "\n",
        "　　　Ｍ」という。）ら上司から、<font color=\"Gainsboro\">●●●●●●●●●●●●●</font>予測の資料を作\n",
        "\n",
        "　　　成するよう業務命令（以下「平成２９年５月業務命令」という。）を受け\n",
        "\n",
        "　　　た（乙１２の２）。\n"
      ],
      "metadata": {
        "id": "KeZReTNIf1XB"
      }
    },
    {
      "cell_type": "markdown",
      "source": [
        "##### 　　<font color=\"silver\">エ　平成29年8月　本件調査報告１</font>\n",
        "\n",
        "　　エ　被告担当者は、平成２９年８月<font color=\"Gainsboro\">●●</font>日、原告に対し、本件通報１につい\n",
        "\n",
        "　　　て、コンプライアンス違反ではないなどとする調査結果報告（以下「本件\n",
        "\n",
        "　　　調査報告１」という。）をした（乙３）。\n"
      ],
      "metadata": {
        "id": "GXKFHeL3f7jh"
      }
    },
    {
      "cell_type": "markdown",
      "source": [
        "##### 　　<font color=\"silver\">オ　平成30年4月　平成３０年度業務分担</font>\n",
        "\n",
        "　　オ　原告は、平成３０年４月<font color=\"Gainsboro\">●</font>日、<font color=\"Gainsboro\">●●●●●</font>部<font color=\"Gainsboro\">●●●●</font><font color=\"Gainsboro\">●</font>グループに異動\n",
        "\n",
        "　　　し、その担当業務は「<font color=\"Gainsboro\">●●●●●</font>グループ・<font color=\"Gainsboro\">●●●●●</font>グループ庶務」と\n",
        "\n",
        "　　　された（乙２５、２７。以下「平成３０年度業務分担」という。）。\n"
      ],
      "metadata": {
        "id": "OZLjjbzlgBWZ"
      }
    },
    {
      "cell_type": "markdown",
      "source": [
        "##### 　　<font color=\"silver\">カ　平成30年11月　本件通報２</font>\n",
        "\n",
        "　　カ　原告は、平成３０年１１月<font color=\"Gainsboro\">●●</font>日、被告の社内通報窓口に対し、平成２\n",
        "\n",
        "　　　８年１月<font color=\"Gainsboro\">●</font>日から平成２９年１０月<font color=\"Gainsboro\">●●</font>日までの一連の内容について、コ\n",
        "\n",
        "　　　ンプライアンス違反となる事象の有無を確認させてほしいなどと記載した\n",
        "\n",
        "　　　通報用フォームをメールで送信した（乙４。以下「本件通報２」といい、\n",
        "\n",
        "　　　本件通報と併せて「本件各通報」という。）。\n"
      ],
      "metadata": {
        "id": "z_0tw8eWgO8I"
      }
    },
    {
      "cell_type": "markdown",
      "source": [
        "##### 　　<font color=\"silver\">キ　令和元年10月　本件調査報告２</font>\n",
        "\n",
        "　　キ　被告担当者は、令和元年１０月<font color=\"Gainsboro\">●●</font>日、原告に対し、本件通報２につい\n",
        "\n",
        "　　　て、ＧＳＴの還付は任意であり、還付を受けないままでも不正行為等に当\n",
        "\n",
        "　　　たらないなどとする調査結果報告（以下「本件調査報告２」といい、本件\n",
        "\n",
        "　　　調査報告と併せて「本件各調査報告」という。）をした（甲１２）。\n"
      ],
      "metadata": {
        "id": "fEd4zkcigc1x"
      }
    },
    {
      "cell_type": "markdown",
      "source": [
        "##### 　　<font color=\"silver\">ク　令和2年4月　令和２年度業務分担</font>\n",
        "\n",
        "　　ク　原告は、令和２年４月<font color=\"Gainsboro\">●</font>日、<font color=\"Gainsboro\">●●●●●●●</font>部<font color=\"Gainsboro\">●●●●</font>グループに異動\n",
        "\n",
        "　　　し、その担当業務は「グループ内庶務」とされた（乙２６、２８。以下\n",
        "\n",
        "　　　「令和２年度業務分担」といい、平成３０年度業務分担と併せて「本件各\n",
        "\n",
        "　　　業務分担」という。）。\n"
      ],
      "metadata": {
        "id": "PBS12YCOghT4"
      }
    },
    {
      "cell_type": "markdown",
      "source": [
        "##### 　　<font color=\"silver\">ケ　令和2年3月　本件ＳＮＳでのやりとり</font>\n",
        "\n",
        "　　ケ　原告は、令和２年３月<font color=\"Gainsboro\">●</font>日から令和３年２月<font color=\"Gainsboro\">●●</font>日にかけて、多数の\n",
        "\n",
        "　　　従業員が閲覧可能な「社長・<font color=\"Gainsboro\">●●●●●●</font>」と題する被告の社内ＳＮＳ\n",
        "\n",
        "　　　（以下「本件ＳＮＳ」という。）に、本件各通報に対する被告の調査は不\n",
        "\n",
        "　　　十分であるなどと繰り返し投稿した（甲１、２）。\n"
      ],
      "metadata": {
        "id": "ekfi3Kaigv5w"
      }
    },
    {
      "cell_type": "markdown",
      "source": [
        "　　コ　被告は、令和３年４月<font color=\"Gainsboro\">●</font>日、原告に対し、本件各調査報告及びこれに関\n",
        "\n",
        "　　　連する情報を、本件ＳＮＳに投稿することを禁じ、投稿した場合は過去の\n",
        "\n",
        "　　　投稿を削除することを通知した（以下「本件措置」という。）。\n"
      ],
      "metadata": {
        "id": "ZdRakh5Bg-6C"
      }
    },
    {
      "cell_type": "markdown",
      "source": [
        "##### 　⑶　本件規程\n",
        "\n",
        "　　　被告が定めるコンプライアンスホットライン規程（以下「本件規程」とい\n",
        "\n",
        "　　う。）には、次の規定がある（乙１）\n",
        "\n",
        "　　<font color=\"silver\">（社外秘のため略）</font>\n"
      ],
      "metadata": {
        "id": "32pkpIKMhJBB"
      }
    },
    {
      "cell_type": "markdown",
      "source": [
        "#####２　争点及びこれに関する当事者の主張の要旨\n"
      ],
      "metadata": {
        "id": "7YIH0DoMhndx"
      }
    },
    {
      "cell_type": "markdown",
      "source": [
        "##### 　⑴　争点１（内部通報制度における信義則上の義務違反）\n",
        "\n",
        "　　〔不利益取扱いの点を除く。］\n",
        "\n",
        "　（原告の主張の要旨）\n",
        "\n",
        "　　ア　被告は、内部通報を行った従業員に対し、事実確認等を怠ることなく、\n",
        "\n",
        "　　　伝えられた情報や疑念を客観的に検証するなど相応の措置を講ずるべき信\n",
        "\n",
        "　　　義則上の義務を負う。\n",
        "\n",
        "　　イ　被告は、本件各通報の対応に関し、次の点で上記義務に違反したから、\n",
        "\n",
        "　　　債務不履行及び不法行為に基づく損害賠償責任を負う。\n",
        "\n",
        "　　（ア）調査をせず、あるいは不十分であったこと（本規程１．２⑼同３、４）\n",
        "\n",
        "　　（イ）調査を実施しない場合の通知をしなかったこと（同３．１⑴）<font color=\"silver\">規程では「速やかに」としている</font>\n",
        "\n",
        "　　（ウ）通報情報の厳重な管理を行わなかったこと（同３．１２）\n",
        "\n",
        "　　（エ）役員等への報告を適正に行っていなかったこと（同３．２⑴、同３、６⑶）\n",
        "\n",
        "　　（オ）再度、通報可能であることの通知をしなかったこと（同３．６⑴エ）\n",
        "\n",
        "　（被告の主張の要旨）\n",
        "\n",
        "　　　否認又は争う。\n"
      ],
      "metadata": {
        "id": "-yFxfXRuhzXA"
      }
    },
    {
      "cell_type": "markdown",
      "source": [
        "##### 　⑵　争点２（不利益取扱い及びパワーハラスメントの有無）\n",
        "\n",
        "　（原告の主張の要旨）\n",
        "\n",
        "　　　①本件移管（これを理由に、<font color=\"silver\">上司Ａ</font>ＧＭが原告に対してＧＳＴについて言\n",
        "\n",
        "　　及しなかったことを含む。）、②平成２９年５月業務命令、③本件各業務分\n",
        "\n",
        "　　担及び④本件措置は、本件規程２．４⑴及び同３．１１⑴で禁止された本件\n",
        "\n",
        "　　各通報を理由とした不利益な取扱いであるとともに、違法なパワーハラスメ\n",
        "\n",
        "　　ントである。\n",
        "\n",
        "　　　したがって、被告は債務不履行及び不法行為に基づく損害賠償責任を負う。\n",
        "\n",
        "　（被告の主張の要旨）\n",
        "\n",
        "　　　否認又は争う。\n"
      ],
      "metadata": {
        "id": "nydd3EpwiGfQ"
      }
    },
    {
      "cell_type": "markdown",
      "source": [
        "##### 　⑶　争点３（人材育成体制における信義則上の義務違反等）\n",
        "\n",
        "　（原告の主張の要旨）\n",
        "\n",
        "　　ア　被告は、その人材育成体制の下、従業員に対し、公正な評価を実施し、\n",
        "\n",
        "　　　公平な能力開発を講ずるべき信義則上の義務を負う。\n",
        "\n",
        "　　イ　被告は、次の点で、上記義務に違反した。また、次の(イ)は、雇用の分野\n",
        "\n",
        "　　　における男女の均等な機会及び待遇の確保等に関する法律（以下「雇用機\n",
        "\n",
        "　　　会均等法」という。）６条違反でもある。したがって、被告は債務不履行\n",
        "\n",
        "　　　及び不法行為に基づく損害賠償責任を負う。\n",
        "\n",
        "　　（ア）被告の評価コメントによるフィードバックは、裏付けとなる根拠事実\n",
        "\n",
        "　　　　を示していない上、人材育成体制の趣旨を逸脱するものもあること\n",
        "\n",
        "　　（イ）<font color=\"Gainsboro\">●●●●</font>代表取締役社長（当時。以下「<font color=\"Gainsboro\">●●</font>社長」という。）のトッ\n",
        "\n",
        "　　　　プメッセージに反して、令和２年４月<font color=\"Gainsboro\">●</font>日、女性である原告の業務を\n",
        "\n",
        "　　　　再び「グループ内庶務」にしたこと（令和２年度業務分担）\n",
        "\n",
        "　（被告の主張の要旨）\n",
        "\n",
        "　　　否認又は争う。\n"
      ],
      "metadata": {
        "id": "USjEeWITGVk_"
      }
    },
    {
      "cell_type": "markdown",
      "source": [
        "##### 　⑷　争点４（原告の損害）\n",
        "\n",
        "　（原告の主張の要旨）\n",
        "\n",
        "　　　被告の債務不履行又は不法行為によって原告が被った精神的苦痛に対する\n",
        "\n",
        "　　慰謝料は１円である。\n",
        "\n",
        "　（被告の主張の要旨）\n",
        "\n",
        "　　　否認又は争う。\n"
      ],
      "metadata": {
        "id": "rgt-LifkltzQ"
      }
    },
    {
      "cell_type": "markdown",
      "source": [
        "#####第３　当裁判所の判断\n"
      ],
      "metadata": {
        "id": "IG_QY2H3lu_3"
      }
    },
    {
      "cell_type": "markdown",
      "source": [
        "#####１　認定事実\n",
        "\n",
        "　　前記前提事実に加え、後掲各証拠及び弁論の全趣旨を総合すると、次の事実\n",
        "\n",
        "　が認められる。\n"
      ],
      "metadata": {
        "id": "tYY6wfjIlxD-"
      }
    },
    {
      "cell_type": "markdown",
      "source": [
        "##### 　⑴　本件通報１及び本件調査報告１に至る経緯等\n"
      ],
      "metadata": {
        "id": "4GwdCn17l1Nv"
      }
    },
    {
      "cell_type": "markdown",
      "source": [
        "##### 　　<font color=\"silver\">ア　平成28年1月　事の発端</font>\n",
        "\n",
        "　　ア　原告は、平成２８年当時、<font color=\"Gainsboro\">●●●●●●●●</font>グループに所属していたが、\n",
        "\n",
        "　　　同年１月<font color=\"Gainsboro\">●</font>日、<font color=\"silver\">上司Ａ</font>ＧＭに対し、オーストラリアの<font color=\"Gainsboro\">●●●●●●●●●</font>\n",
        "\n",
        "　　　事務所（以下「本件豪州企業」という。）が被告に発行した請求書にはＧ\n",
        "\n",
        "　　　ＳＴが記載されているが、被告に支払義務がなく、誤りがあるおそれがあ\n",
        "\n",
        "　　　る旨を伝えた。\n",
        "\n",
        "　　　　<font color=\"silver\">上司Ａ</font>ＧＭは、上記ＧＳＴの問題について、従前の業務内容や英語能力\n",
        "\n",
        "　　　等を踏まえ、<font color=\"Gainsboro\">●●●●●●●●</font>グループの<font color=\"Gainsboro\">●●●●</font>（以下「<font color=\"silver\">担当</font>」とい\n",
        "\n",
        "　　　う。）に担当させることとした（甲１２（１０頁））。\n"
      ],
      "metadata": {
        "id": "wyJ8jQfWl3gP"
      }
    },
    {
      "cell_type": "markdown",
      "source": [
        "##### 　　<font color=\"silver\">イ　平成28年3月　上司が告げた内容</font>\n",
        "\n",
        "　　イ　原告は、平成２８年３月<font color=\"Gainsboro\">●●</font>日、<font color=\"silver\">上司Ａ</font>ＧＭに対し、上記ＧＳＴについ\n",
        "\n",
        "　　　て確認しなければならないことや必要な対応はあるかなどと記載したメー\n",
        "\n",
        "　　　ルを送信した。<font color=\"silver\">上司Ａ</font>ＧＭは、同日、原告に対し、<font color=\"silver\">担当</font>が<font color=\"silver\">子会社</font>や税務担\n",
        "\n",
        "　　　当に問合せをしたところ、本件豪州企業との取引については、ＧＳＴの支\n",
        "\n",
        "　　　払額をインボイスとともに当局に届けると、支払うべき税金からそのＧＳ\n",
        "\n",
        "　　　Ｔ分が減額されるとのことであったため、主な過去の支払分は対応しても\n",
        "\n",
        "　　　らっている、今後、同様に本件豪州企業からＧＳＴ込みで請求された場合\n",
        "\n",
        "　　　には、<font color=\"silver\">子会社</font>に送付して手続してもらうなどと対応方針を整理した上で、\n",
        "\n",
        "　　　当面は原告の手を煩わせる事項はないが、何かあれば相談する旨を返信し\n",
        "\n",
        "　　　た。（乙１４）\n"
      ],
      "metadata": {
        "id": "H18rjk9EmBKi"
      }
    },
    {
      "cell_type": "markdown",
      "source": [
        "##### 　　<font color=\"silver\">ウ　平成28年3月　平成２８年３月業務命令</font>\n",
        "\n",
        "　　ウ　<font color=\"silver\">上司Ａ</font>ＧＭは、同日（平成２８年３月３１日）、原告に対し、各国の<font color=\"Gainsboro\">●</font>\n",
        "\n",
        "　　　<font color=\"Gainsboro\">●●●●●●●●●●</font>を基礎に令和１２年（西暦２０３０年）の<font color=\"Gainsboro\">●●●●</font>\n",
        "\n",
        "　　　<font color=\"Gainsboro\">●</font>を予測する業務を命じた（以下「平成２８年３月業務命令」という。）\n",
        "\n",
        "　　　（乙１２の１）。\n"
      ],
      "metadata": {
        "id": "zTNr4Yt3mw4h"
      }
    },
    {
      "cell_type": "markdown",
      "source": [
        "##### 　　<font color=\"silver\">エ　平成28年9月　本件通報１</font>\n",
        "\n",
        "　　エ　原告は、平成２８年９月<font color=\"Gainsboro\">●●</font>日、社内通報窓口のメールアドレスに「コ\n",
        "\n",
        "　　　ンプライアンスホットライン通報用フォーム」と題するファイル（以下\n",
        "\n",
        "　　　「本件フォーム」という。）を添付したメールを送信した（本件通報１）。\n",
        "\n",
        "　　　　本件フォームの「法令等違反の具体的な内容」欄には、「将来的に法人\n",
        "\n",
        "　　　税法等の法令違反に該当する可能性があるのか、分からないため、相談さ\n",
        "\n",
        "　　　せていただきたい。」と記載され、続いて「内容」として、「海外取引で\n",
        "\n",
        "　　　支払った当社宛の請求書の金額について、付加価値税が含まれていた。\n",
        "\n",
        "　　　（豪州、当時の為替で６５０万円）その付加価値税の還付は豪州関連会社\n",
        "\n",
        "　　　の<font color=\"silver\">子会社</font>に納付された。なお、付加価値税分の金額は経費で計上されたま\n",
        "\n",
        "　　　まである。（コンサルタント費用・法人税に影響？）」と記載され、さら\n",
        "\n",
        "　　　に「経緯」として、同年１月<font color=\"Gainsboro\">●</font>日にＧＳＴが費用として計上されているこ\n",
        "\n",
        "　　　とをＧＭに伝えたところ、担当が対応するとの回答があったことや、同年\n",
        "\n",
        "　　　９月<font color=\"Gainsboro\">●●</font>日に、原告がその担当に確認したところ、ＧＳＴが<font color=\"silver\">子会社</font>に還付\n",
        "\n",
        "　　　されたとの回答があったが、振替処理などは未確認であるなどと記載され\n",
        "\n",
        "　　　ていた。（以上につき、乙２）\n"
      ],
      "metadata": {
        "id": "lZVN3bBcnvfd"
      }
    },
    {
      "cell_type": "markdown",
      "source": [
        "##### 　　<font color=\"silver\">オ　平成28年9月　通報窓口担当者とのやりとり</font>\n",
        "\n",
        "　　オ　被告<font color=\"Gainsboro\">●●</font>部法務グループ（以下、単に「法務グループ」という。）の<font color=\"Gainsboro\">●</font>\n",
        "\n",
        "　　　<font color=\"Gainsboro\">●●●</font>（以下「<font color=\"silver\">担当</font>」という）は、平成２８年９月<font color=\"Gainsboro\">●●</font>日、原告に対し、\n",
        "\n",
        "　　　本件通報１を受け取った旨を通知するとともに、上司に知られると問題と\n",
        "\n",
        "　　　なる事情はあるか、<font color=\"Gainsboro\">●●</font>ＨＤ（当時の被告親会社）経理部（以下、単に\n",
        "\n",
        "　　　「経理部」という。）税務グループ（以下、単に「税務グループ」とい\n",
        "\n",
        "　　　う。）に照会したいが、原告にも同行してもらえるかを尋ねるメールを送\n",
        "\n",
        "　　　信した。なお、法務グループは、本件通報１があった旨を関係役員等に報\n",
        "\n",
        "　　　告しなかった。\n",
        "\n",
        "　　　　原告は、同日、<font color=\"silver\">担当</font>に対し、上司との関係が悪化する懸念があるため、\n",
        "\n",
        "　　　当面は上司等所属部員に知られないようにお願いしたい、税務グループへ\n",
        "\n",
        "　　　の同行については問題ないなどと返信するとともに、同年１０月<font color=\"Gainsboro\">●</font>日、面\n",
        "\n",
        "　　　談で確認したいポイントは、①ＧＳＴについて免税対象の品目かどうか、\n",
        "\n",
        "　　　②免税の場合、手続により還付を受けられるか、③還付を受けられる場合、\n",
        "\n",
        "　　　海外子会社が還付金を受けてもよいかであるなどと伝えた。\n",
        "\n",
        "　　　　同月１２日、原告、<font color=\"silver\">担当</font>及び税務グループ担当者で面談が実施された。\n",
        "\n",
        "　　　（以上につき、乙１５）\n"
      ],
      "metadata": {
        "id": "XN_SgkUhoPhO"
      }
    },
    {
      "cell_type": "markdown",
      "source": [
        "##### 　　<font color=\"silver\">カ　平成28年11月　平成２８年１１月業務命令</font>\n",
        "\n",
        "　　カ　原告は、平成２８年１１月<font color=\"Gainsboro\">●</font>日、<font color=\"silver\">上司Ａ</font>ＧＭに対し、国際税務セミナー\n",
        "\n",
        "　　　の研修を受講した旨報告するとともに、ＧＳＴの還付を<font color=\"silver\">子会社</font>が受ける手\n",
        "\n",
        "　　　続をしたと聞いたが、そのまま決算をした場合、会計原則等の視点で適正\n",
        "\n",
        "　　　なのか疑問がある、本件豪州企業に係るＧＳＴも<font color=\"silver\">子会社</font>が還付を受けたと\n",
        "\n",
        "　　　いう認識でよいか確認したいなどと記載したメールを送信した。\n",
        "\n",
        "　　　　<font color=\"silver\">上司Ａ</font>ＧＭは、同月<font color=\"Gainsboro\">●</font>日、原告及び他の従業員に対し、上記国際税務セ\n",
        "\n",
        "　　　ミナーの研修資料について、<font color=\"Gainsboro\">●●</font>事業部向けに修正したものを作成し、説\n",
        "\n",
        "　　　明会を行うように依頼した（以下「平成２８年１１月業務命令」といい、\n",
        "\n",
        "　　　平成２８年３月業務命令及び平成２９年５月業務命令と併せて「本件各業\n",
        "\n",
        "　　　務命令」という。）が、ＧＳＴについては特段言及しなかった。（以上に\n",
        "\n",
        "　　　つき、乙８）\n"
      ],
      "metadata": {
        "id": "tblG39hQpR5z"
      }
    },
    {
      "cell_type": "markdown",
      "source": [
        "##### 　　<font color=\"silver\">キ-1　平成28年11月　原告が通知した内容</font>\n",
        "\n",
        "　　<font color=\"silver\">若手社員が上司に対して契約書に関して確認した際、上司Aが叱責したこと等</font>\n",
        "\n",
        "　　<font color=\"silver\">々を省いている。また、被告の対応が判然としなかったため、原告は、あらた</font>\n",
        "\n",
        "　　<font color=\"silver\">めて外部窓口に通報することの可否を確認していたが、その事実も省いている。</font>\n",
        "\n",
        "　　キ　原告は、平成２８年１１月<font color=\"Gainsboro\">●●</font>日、<font color=\"silver\">担当</font>に対し、<font color=\"silver\">上司Ａ</font>ＧＭにＧＳＴ還\n",
        "\n",
        "　　　付請求の処理について確認のメールをしたが、回答がないなどと記載した\n",
        "\n",
        "　　　メールを送信し、その後も複数回、<font color=\"silver\">上司Ａ</font>ＧＭが無回答であり違和感があ\n",
        "\n",
        "　　　る、その意図がおぼろげながら分かってきたなどと記載したメールを送信\n",
        "\n",
        "　　　した。\n"
      ],
      "metadata": {
        "id": "BnBv0V2cpj8u"
      }
    },
    {
      "cell_type": "markdown",
      "source": [
        "##### 　　<font color=\"silver\">キ-2　平成28年12月　調査結果報告…？</font>\n",
        "\n",
        "　　<font color=\"silver\">原告は、調査結果報告であったことを裁判で初めて認識した。しかし、下記は、\n",
        "\n",
        "　　<font color=\"silver\">10月12日に経理部との面談での内容であり、10月12日の面談の後にいったい\n",
        "\n",
        "　　<font color=\"silver\">何を確認したのかが不明。\n",
        "\n",
        "　　　　<font color=\"silver\">担当</font>は、原告に対し、同年１２月<font color=\"Gainsboro\">●●</font>日、上記の連絡内容についても経\n",
        "\n",
        "　　　理部に伝えるのでもう少し時間をもらいたい旨返信し、同月<font color=\"Gainsboro\">●●</font>日、経理\n",
        "\n",
        "　　　部からの回答として、「結論としては、直ちにコンプライアンス違反とは\n",
        "\n",
        "　　　いえないものの、秘匿性の高い動きではなく、経理部に正式に相談いただ\n",
        "\n",
        "　　　いた上で、調査を行うことができれば、今後の業務の整理にも役立つこと\n",
        "\n",
        "　　　から、相談をお勧めする」というものだったとして、原告からの相談とは\n",
        "\n",
        "　　　分からない形で、また、仮に分かったとしても決して不利益は掛からない\n",
        "\n",
        "　　　という前提で、法務グループのＧＭから<font color=\"silver\">上司Ａ</font>ＧＭに相談した上で、正式\n",
        "\n",
        "　　　に<font color=\"Gainsboro\">●●●●●●●●</font>グループから経理部に相談するという形を取りたいが\n",
        "\n",
        "　　　どうかと提案するメールを送信した。また、同メールには、「経理部回答\n",
        "\n",
        "　　　概要」として、①被告は<font color=\"silver\">子会社</font>とグルーピング登録をしていることから、\n",
        "\n",
        "　　　被告が納付したＧＳＴについて<font color=\"silver\">子会社</font>が還付を受けることは問題なく、そ\n",
        "\n",
        "　　　の後、当該還付金を被告及び<font color=\"silver\">子会社</font>間でどう精算するかは決めの問題であ\n",
        "\n",
        "　　　る、②<font color=\"silver\">子会社</font>が還付処理をしているか自体が不明な場合は、<font color=\"silver\">子会社</font>に問い\n",
        "\n",
        "　　　合わせるか別途相談してもらいたい、③個別の取引がＧＳＴの対象である\n",
        "\n",
        "　　　かは取引の性質により取引ごとに異なるため、一部還付申請がされていな\n",
        "\n",
        "　　　いとしても直ちにコンプライアンス違反とはいえない、判別に困る場合は\n",
        "\n",
        "　　　別途相談してもらいたい旨が記載されていた。\n"
      ],
      "metadata": {
        "id": "MmNzrWuwpyRN"
      }
    },
    {
      "cell_type": "markdown",
      "source": [
        "##### 　　<font color=\"silver\">キ-3　平成29年1月　通報窓口担当者とのやりとり</font>\n",
        "\n",
        "　　<font color=\"silver\">書面で議論しなかった内容を含む。また、原告が通報窓口担当者に対し、</font>\n",
        "\n",
        "　　<font color=\"silver\">協議を行わなくても解決できるのではないかと伝えたことを省いている。</font>\n",
        "\n",
        "　　　　原告は、平成２９年１月５日、<font color=\"silver\">担当</font>に対し、ＧＭ間の相談、確認につい\n",
        "\n",
        "　　　ては、被告として必要があるという判断であればお願いしたい、<font color=\"silver\">上司Ａ</font>Ｇ\n",
        "\n",
        "　　　Ｍに本件を伝えると、内容から通知者を特定できることはほぼ間違いのな\n",
        "\n",
        "　　　いことであるが、そのリスクは覚悟したので、今後の確認等の判断は任せ\n",
        "\n",
        "　　　たいなどとした上で、契約書の請求額にＧＳＴを含めないことについて相\n",
        "\n",
        "　　　手企業に依頼できるかどうか、<font color=\"silver\">上司Ａ</font>ＧＭはなぜ無回答なのかなどと原告\n",
        "\n",
        "　　　の疑問を列挙するメールを送信した。\n",
        "\n",
        "　　　　<font color=\"silver\">担当</font>は、同日、原告に対し、追加でいただいた疑問を含めて対応を検討\n",
        "\n",
        "　　　する、法務グループのＧＭとも相談するが、おそらく<font color=\"silver\">上司Ａ</font>ＧＭとの間で\n",
        "\n",
        "　　　相談することになると思う、仮に相談者が特定されても、不利益は決して\n",
        "\n",
        "　　　ないよう制度は整っている、何らか不利益を課されている旨の連絡があれ\n",
        "\n",
        "　　　ば、すぐに対応するなどと返信した。（以上につき、乙１１、１５、１\n",
        "\n",
        "　　　８）\n"
      ],
      "metadata": {
        "id": "uAKd7eaVqLOt"
      }
    },
    {
      "cell_type": "markdown",
      "source": [
        "##### 　　<font color=\"silver\">ク　平成29年2月　被通報者との協議の実施</font>\n",
        "\n",
        "　　ク　法務グループのＧＭと<font color=\"silver\">上司Ａ</font>ＧＭは、平成２９年２月<font color=\"Gainsboro\">●</font>日、ＧＳＴにつ\n",
        "\n",
        "　　　いて協議した。\n"
      ],
      "metadata": {
        "id": "mMnsOTSrqn9t"
      }
    },
    {
      "cell_type": "markdown",
      "source": [
        "##### 　　<font color=\"silver\">ケ　平成29年3月　本件移管</font>\n",
        "\n",
        "　　<font color=\"silver\">平成２９年３月<font color=\"Gainsboro\">●●</font>日頃のこと？担当者の異動については、書面にも書証に\n",
        "\n",
        "　　<font color=\"silver\">もその事実の記載が見当たらない。また、ＧＳＴの業務っていったい何？\n",
        "\n",
        "　　ケ　平成２９年３月<font color=\"Gainsboro\">●</font>日、本件通報１に係るＧＳＴの業務について、<font color=\"Gainsboro\">●●●</font>\n",
        "\n",
        "　　　<font color=\"Gainsboro\">●●●●●</font>グループから<font color=\"Gainsboro\">●●●●</font>グループに移管する旨の通知がされ、同\n",
        "\n",
        "　　　月<font color=\"Gainsboro\">●●</font>日頃、本件移管が実施された。なお、本件移管は、担当者の<font color=\"silver\">担当</font>の\n",
        "\n",
        "　　　異動に伴うものであった（甲１２［１０頁］）。\n"
      ],
      "metadata": {
        "id": "xhNa0JLiqsst"
      }
    },
    {
      "cell_type": "markdown",
      "source": [
        "##### 　　<font color=\"silver\">コ　平成29年5月　平成２９年５月業務命令</font>\n",
        "\n",
        "　　コ　<font color=\"silver\">上司Ａ</font>ＧＭ及び<font color=\"Gainsboro\">●●●●●●●●</font>グループの<font color=\"Gainsboro\">●●●●</font>（以下「<font color=\"silver\">担当</font>」と\n",
        "\n",
        "　　　いう。）は、平成２９年５月<font color=\"Gainsboro\">●●</font>日、原告に対し、平成２９年５月業務命\n",
        "\n",
        "　　　令をし、原告は<font color=\"silver\">担当</font>に質問相談するなどして<font color=\"Gainsboro\">●●●●●●●●●●●●●</font>\n",
        "\n",
        "　　　予測の資料を作成するとともに、<font color=\"Gainsboro\">●●●●●●●●</font>グループ等において同\n",
        "\n",
        "　　　資料に基づく説明会等を実施した（乙１２の２、３、乙１３、２４）\n"
      ],
      "metadata": {
        "id": "o1UGEt5hrEXc"
      }
    },
    {
      "cell_type": "markdown",
      "source": [
        "##### 　　<font color=\"silver\">サ-1　平成29年7月　通報窓口担当者とのやりとり</font>\n",
        "\n",
        "　　サ　原告は、平成２９年７月<font color=\"Gainsboro\">●●</font>日、<font color=\"silver\">担当</font>らに対し、１年間、ＧＳＴに関し\n",
        "\n",
        "　　　て誤りを放置したことに起因して、不具合が生じているのではないかと感\n",
        "\n",
        "　　　じるなどとした上で、法務グループと<font color=\"Gainsboro\">●●●●●●●●</font>グループのＧＭ間\n",
        "\n",
        "　　　での確認作業はまだ行われていないという理解であり、今後、ＧＭ間で調\n",
        "\n",
        "　　　査が必要となれば事前に連絡してほしいなどと記載したメールを送信した。\n",
        "\n",
        "　　　　<font color=\"silver\">担当</font>は、同日、原告に対し、原告から了承を得られた後直ちに、法務グ\n",
        "\n",
        "　　　ループのＧＭから<font color=\"silver\">上司Ａ</font>ＧＭにコンタクトし、本件について共有した上で、\n",
        "\n",
        "　　　対応を行うべき旨指示をしているなどと返信した。\n",
        "\n",
        "　　　　原告は、同月<font color=\"Gainsboro\">●●</font>日、<font color=\"silver\">担当</font>に対し、ＧＭ間のコンタクトが行われた時期、\n",
        "\n",
        "　　　法務グループが確認及び指示した内容、<font color=\"silver\">上司Ａ</font>ＧＭが提示した資料につい\n",
        "\n",
        "　　　て尋ねるメールを送信し（以上につき、乙１５）、<font color=\"silver\">担当</font>は、同月<font color=\"Gainsboro\">●●</font>日、\n",
        "\n",
        "　　　原告に対し、同年２月７日にＧＭ間での協議が行われたことを伝えた。\n"
      ],
      "metadata": {
        "id": "B5lkjB5urLp1"
      }
    },
    {
      "cell_type": "markdown",
      "source": [
        "##### 　　<font color=\"silver\">サ-2　平成29年7月　通報窓口担当者との面談の後のやりとり</font>\n",
        "\n",
        "　　<font color=\"silver\">文章がグダグダしてる。上司Aに確認する前段階として、上司Aの行為を洗い</font>\n",
        "\n",
        "　　<font color=\"silver\">出したものを、面談時での通報窓口担当者の求めに応じて提出したもの。</font>\n",
        "\n",
        "　　　　原告は、同年７月<font color=\"Gainsboro\">●●</font>日、<font color=\"silver\">担当</font>に対し、税務処理として確認してほしい\n",
        "\n",
        "　　　事項と<font color=\"silver\">上司Ａ</font>ＧＭに確認してほしい事項を記載した各ファイルを添付した\n",
        "\n",
        "　　　上、<font color=\"silver\">上司Ａ</font>ＧＭに確認する場合は、ひとまず、後者のファイルの「（ＧＭ\n",
        "\n",
        "　　　へ確認していただきたい内容）」で記載したような人間関係への影響が少\n",
        "\n",
        "　　　ない内容でお願いしたいなどと記載したメールを送信した。\n",
        "\n",
        "　　　　上記各ファイルにおいて、税務処理として確認してほしい事項には、\n",
        "\n",
        "　　　「豪州政府とのＧＳＴグルーピングの契約内容の確認」「<font color=\"silver\">子会社</font>へ還付さ\n",
        "\n",
        "　　　れたＧＳＴ金額の確認」「利益移転の有無の確認」など１０項目以上が挙\n",
        "\n",
        "　　　げられ、また、<font color=\"silver\">上司Ａ</font>ＧＭの対応に関する「経緯」や「疑問に感じた言\n",
        "\n",
        "　　　動」等としては、<font color=\"silver\">上司Ａ</font>ＧＭに「メールで詳しい内容を送信した※印のタ\n",
        "\n",
        "　　　イミングで、必要性として、『あったほうがいいかもしれない』レベルの\n",
        "\n",
        "　　　資料作成を命じられる。」などと、本件各業務命令を含め、原告の様々な\n",
        "\n",
        "　　　疑問事項等が記載されていたが、「（ＧＭへ確認していただきたい内\n",
        "\n",
        "　　　容）」としては、平成２８年３月末時点でのＧＳＴについての照会先等が\n",
        "\n",
        "　　　記載されていた一方、本件各業務命令については記載されていなかった。\n",
        "\n",
        "　　　（以上につき、争いがない。原告準備書面（８）別紙５～７参照）"
      ],
      "metadata": {
        "id": "jQrP56wcyc_O"
      }
    },
    {
      "cell_type": "markdown",
      "source": [
        "##### 　　<font color=\"silver\">シ　平成29年8月　本件調査報告１</font>\n",
        "\n",
        "　　シ　<font color=\"silver\">担当</font>は、平成２９年８月<font color=\"Gainsboro\">●●</font>日、原告に対し、本件調査報告１をした。\n",
        "\n",
        "　　　　本件調査報告では、税務上もコンプライアンス違反となる事項ではな\n",
        "\n",
        "　　　い旨を経理部と確認済みであり、さらに、<font color=\"silver\">上司Ａ</font>ＧＭに事実確認等をした\n",
        "\n",
        "　　　ところ、経理部等と相談し、本件移管をした上で、ＧＳＴの還付を含め、\n",
        "\n",
        "　　　今年度上期を目途に対応完了予定であることを確認したとして、コンプラ\n",
        "\n",
        "　　　イアンス違反ではなく、コンプライアンスホットライン案件としては特段\n",
        "\n",
        "　　　の対応は実施しない、<font color=\"Gainsboro\">●●●●●●●●</font>グループ内での過去の調査経緯等\n",
        "\n",
        "　　　についても問合せがあったが、本件が既にコンプライアンス違反でないこ\n",
        "\n",
        "　　　とが確認されているため、回答を差し控えるなどとされていた。（以上に\n",
        "\n",
        "　　　つき、乙３）\n",
        "\n",
        "　　　　なお、法務グループは、本件通報１の調査結果等についても、関係役員\n",
        "\n",
        "　　　等に報告しなかった。\n"
      ],
      "metadata": {
        "id": "UhxKizaStqjD"
      }
    },
    {
      "cell_type": "markdown",
      "source": [
        "##### 　⑵　本件通報２及び本件調査報告２に至る経緯等\n"
      ],
      "metadata": {
        "id": "XzUmbXtMuD0s"
      }
    },
    {
      "cell_type": "markdown",
      "source": [
        "##### 　　<font color=\"silver\">ア　平成29年10月　ＧＳＴ還付に関する業務報告</font>\n",
        "\n",
        "　　<font color=\"silver\">この報告は具体的金額が記載されておらず、また、法改正があったと記載さ\n",
        "\n",
        "　　<font color=\"silver\">れていたが、具体的な法改正を示していなかった。子会社から被告への送金\n",
        "\n",
        "　　<font color=\"silver\">は確認できているが、豪州当局から子会社への送金は確認できていない。\n",
        "\n",
        "\n",
        "　　ア　<font color=\"silver\">担当</font>は、平成２９年１０月<font color=\"Gainsboro\">●●</font>日、オーストラリアＧＳＴの過年度支払\n",
        "\n",
        "　　　分については、<font color=\"silver\">子会社</font>において同年９月までに還付請求を実施し、<font color=\"silver\">子会社</font>\n",
        "\n",
        "　　　への還付額については被告への戻入れも実施済みである、具体的処理は、\n",
        "\n",
        "　　　経理部の指示に従って、支払の際は一般管理費で計上し、戻入れの際は雑\n",
        "\n",
        "　　　収入で計上したなどと報告する<font color=\"Gainsboro\">●●</font>事業部部長宛てのメールを送信し、原\n",
        "\n",
        "　　　告もこれを受信した（乙１６［添付資料１９頁〕）。\n"
      ],
      "metadata": {
        "id": "Jqdlgol7uFF0"
      }
    },
    {
      "cell_type": "markdown",
      "source": [
        "##### 　　<font color=\"silver\">イ　平成30年4月　平成３０年度業務分担</font>\n",
        "\n",
        "　　イ　原告は、平成３０年４月<font color=\"Gainsboro\">●●</font>日、<font color=\"Gainsboro\">●●●●●</font>部<font color=\"Gainsboro\">●●●●</font><font color=\"Gainsboro\">●</font>グループに異動\n",
        "\n",
        "　　　し、その担当業務は「<font color=\"Gainsboro\">●●●●</font><font color=\"Gainsboro\">●</font>グループ・<font color=\"Gainsboro\">●●●●</font><font color=\"Gainsboro\">●</font>グループ庶務」と\n",
        "\n",
        "　　　された（平成３０年度業務分担）（前記前提事実⑵オ）。\n"
      ],
      "metadata": {
        "id": "Cb1PwEnmuQlU"
      }
    },
    {
      "cell_type": "markdown",
      "source": [
        "##### 　　<font color=\"silver\">ウ　平成30年11月　本件通報２</font>\n",
        "\n",
        "　　ウ　原告は、平成３０年１１月<font color=\"Gainsboro\">●●</font>日、社内通報窓口のメールアドレスに本\n",
        "\n",
        "　　　件フォームを添付したメールを送信した（本件通報２）。\n",
        "\n",
        "　　　　本件フォームの「法令等違反の具体的な内容」欄には、２０１６年１\n",
        "\n",
        "　　　月７日～２０１７年１０月<font color=\"Gainsboro\">●●</font>日で起きた一連の内容について、コンプラ\n",
        "\n",
        "　　　イアンス違反となる事象の有無を確認させていただきたい。また、コンプ\n",
        "\n",
        "　　　ライアンス違反の有無の判断に基づく具体的理由、および、根拠法令につ\n",
        "\n",
        "　　　いて確認させていただきたい。」などと記載された上で、上記期間につい\n",
        "\n",
        "　　　て時系列で出来事が列挙され、随時、「<font color=\"silver\">子会社</font>から被告へ返金分の支払い\n",
        "\n",
        "　　　が無ければ、利益移転となるため疑問があった。」などと原告の疑問点等\n",
        "\n",
        "　　　が記載されていた。（以上につき、乙４）\n"
      ],
      "metadata": {
        "id": "LUun-b12uVgk"
      }
    },
    {
      "cell_type": "markdown",
      "source": [
        "##### 　　<font color=\"silver\">エ　平成30年11月　役員等への報告</font>\n",
        "\n",
        "　　エ　被告法務部法務<font color=\"Gainsboro\">●</font>グループ（以下、単に「法務<font color=\"Gainsboro\">●</font>グループ」という。）\n",
        "\n",
        "　　　の<font color=\"Gainsboro\">●●●●</font>（以下「<font color=\"Gainsboro\">●●</font>」という。）は、平成３０年１１月<font color=\"Gainsboro\">●●</font>日、原告\n",
        "\n",
        "　　　に対し、本件通報２について受け付けた旨を通知した（乙１６）。\n",
        "\n",
        "　　　　また、法務<font color=\"Gainsboro\">●</font>グループ担当者は、同月<font color=\"Gainsboro\">●●</font>日、<font color=\"Gainsboro\">●●</font>社長を含む関係役員\n",
        "\n",
        "　　　等に対し、本件通報２があった旨を報告した。同報告では、本件通報２の\n",
        "\n",
        "　　　内容について、平成２８年度、<font color=\"silver\">子会社</font>と被告間の経費処理方法に疑義を抱\n",
        "\n",
        "　　　き、当時の上司に伝えたが、当該上司がどのように対応したか分からなか\n",
        "\n",
        "　　　ったため、コンプライアンスホットラインを用いて通報した、その後、対\n",
        "\n",
        "　　　応が完了したとの連絡があり、説明も受けたが疑問点がある、コンプライ\n",
        "\n",
        "　　　アンス違反の有無とその根拠についても確認したいなどとまとめられてい\n",
        "\n",
        "　　　た。（以上につき、乙２２）\n"
      ],
      "metadata": {
        "id": "0FLKKQd2u2z0"
      }
    },
    {
      "cell_type": "markdown",
      "source": [
        "##### 　　<font color=\"silver\">オ-1　平成30年12月　通報窓口担当者とのやりとり</font>\n",
        "\n",
        "　　<font color=\"silver\">被告書面で主張していない内容も含まれ、原告も反論していない。また、</font>\n",
        "\n",
        "　　<font color=\"silver\">他の認定事実の内容も考えると認定事実の取得選択の基準に疑問。</font>\n",
        "\n",
        "　　オ　<font color=\"Gainsboro\">●●</font>は、平成３０年１２月<font color=\"Gainsboro\">●●</font>日、法務<font color=\"Gainsboro\">●</font>グループのＧＭである<font color=\"Gainsboro\">●●●</font>\n",
        "\n",
        "　　　<font color=\"Gainsboro\">●</font>（以下「<font color=\"Gainsboro\">●●</font>ＧＭ」という。）とともに、原告と面談を実施した上で、\n",
        "\n",
        "　　　同月１８日原告に対し、本件通報２については、ＧＳＴについて適切な\n",
        "\n",
        "　　　是正措置（還付処理及び被告帳簿への費用計上処理）が完了しているか、\n",
        "\n",
        "　　　是正措置の過程で問題の隠蔽や原告への圧迫があったかについて、コンプ\n",
        "\n",
        "　　　ライアンス違反の有無を調査回答することとしたい、被通報者（<font color=\"silver\">上司Ａ</font>Ｇ\n",
        "\n",
        "　　　Ｍ）からのヒアリングについては、現時点では希望がないことから実施し\n",
        "\n",
        "　　　ないなどと記載したメールを送信した。\n",
        "\n",
        "　　　　原告は、<font color=\"Gainsboro\">●●</font>に対し、同月<font color=\"Gainsboro\">●●</font>日、コンプライアンスの意味内容につい\n",
        "\n",
        "　　　て尋ねるなどした上で、追って「行動としてその理由が分からないこと」\n",
        "\n",
        "　　　を箇条書きで伝えるので事実と理由を確認してほしい、<font color=\"silver\">上司Ａ</font>ＧＭや<font color=\"silver\">担当</font>\n",
        "\n",
        "　　　等に直接確認してもらうことは全く構わないなどと記載したメールを送信\n",
        "\n",
        "　　　し、同月<font color=\"Gainsboro\">●●</font>日、調査で確認してもらいたい事項を記載したファイルを添\n",
        "\n",
        "　　　付したメールを送信した。\n",
        "\n",
        "　　　　<font color=\"Gainsboro\">●●</font>は、平成３１年１月<font color=\"Gainsboro\">●</font>日、原告に対し、コンプライアンスの意味内\n",
        "\n",
        "　　　容等に関する原告からの質問に回答するとともに、調査の具体的な方法等\n",
        "\n",
        "　　　は法務部で判断する、ただし、原告は<font color=\"silver\">上司Ａ</font>ＧＭ等へのヒアリングをして\n",
        "\n",
        "　　　も構わないということであるので、それも加味して調査を実施するまた、\n",
        "\n",
        "　　　原告の疑問点は調査の際の参考とさせてもらうが、コンプライアンホッ\n",
        "\n",
        "　　　トラインの目的は不正行為等の是正であり、業務遂行のプロセスが不正行\n",
        "\n",
        "　　　為等に当たらない限りは、その妥当性について判断を差し控えることもあ\n",
        "\n",
        "　　　り得るなどと記載したメールを送信した。\n",
        "\n",
        "　　　　原告は、その後も、<font color=\"Gainsboro\">●●</font>に対し、<font color=\"Gainsboro\">●●</font>の回答を受けて自らの理解を整理\n",
        "\n",
        "　　　したので内容が正しいか否か回答してほしいなどとするメールを複数回送\n",
        "\n",
        "　　　信し、<font color=\"Gainsboro\">●●</font>はこれに回答するなどした上で、同年２月１２日、①原告が、\n",
        "\n",
        "　　　契約書にＧＳＴの扱いについて明記するものではないかという疑問を持っ\n",
        "\n",
        "　　　ていることは理解した、②原告が<font color=\"Gainsboro\">●●●●●</font>について、事業部に対する周\n",
        "\n",
        "　　　知展開の必要性を伝えたとのことであり、その後何らかの対応をしている\n",
        "\n",
        "　　　か確認するなどとして、特に質問がなければ、上記平成３０年１２月１８\n",
        "\n",
        "　　　日のメール内容に上記①②を加えたものを調査のスコープと定めて着手す\n",
        "\n",
        "　　　る旨記載したメールを原告に送信した。\n",
        "\n",
        "　　　　原告は、平成３１年２月<font color=\"Gainsboro\">●●</font>日、<font color=\"Gainsboro\">●●</font>に対し、再び、自らの理解をファ\n",
        "\n",
        "　　　イルにまとめたので共通認識としてよいか確認してほしい、自らが列挙し\n",
        "\n",
        "　　　た疑問点については参考とさせてもらうとの回答があったが、これは調査\n",
        "\n",
        "　　　の対象外であるという趣旨かなどと記載したメールを送信し、<font color=\"Gainsboro\">●●</font>は、同\n",
        "\n",
        "　　　月２５日、原告の疑問点については、上記同月<font color=\"Gainsboro\">●●</font>日のメール記載の調査\n",
        "\n",
        "　　　遂行に必要な範囲で対応する、調査協力者や調査方法については法務部で\n",
        "\n",
        "　　　決定するなどとしてこれらに回答するとともに、調査に着手し、結果を報\n",
        "\n",
        "　　　告するプロセスに入るなどと返信した。\n",
        "\n",
        "　　　　原告は、その後も、<font color=\"Gainsboro\">●●</font>に対し、調査協力者等について法務部で決定す\n",
        "\n",
        "　　　ることは承知したなどとしつつ、調査の結果、法務部が「マル」と判断し\n",
        "\n",
        "　　　た場合、その判断を下した根拠となる法令や社会通念の説明はあるかや、\n",
        "\n",
        "　　　原告が作成した「調査の対象となる事項（調査スコープ）」に記載された\n",
        "\n",
        "　　　各項目が調査範囲に含まれるかなどを尋ねるメールを送信し、<font color=\"Gainsboro\">●●</font>は、同\n",
        "\n",
        "　　　年３月<font color=\"Gainsboro\">●●</font>日、原告に対し、前者の質問について、本件規程３．６⑴ア～\n",
        "\n",
        "　　　エの事項（前記前提事実⑶サ(ア)①～④）を引用した上で調査終了後はこれ\n",
        "\n",
        "　　　らを通知する、理由を付すことは裁量で行っている旨を回答し、後者の質\n",
        "\n",
        "　　　間について、上記同年２月１２日のメール内容に沿って調査事項を再度提\n",
        "\n",
        "　　　示するとともに、これと原告作成の上記各項目との関係を説明した上で、\n",
        "\n",
        "　　　問題意識は絞られたと判断するので、調査を開始させてもらうなどと記載\n",
        "\n",
        "　　　したメールを送信した。\n"
      ],
      "metadata": {
        "id": "nU2QLek4vVat"
      }
    },
    {
      "cell_type": "markdown",
      "source": [
        "##### 　　<font color=\"silver\">オ-2　平成30年3月　通報窓口担当者との面談</font>\n",
        "\n",
        "　　　　原告は、同年３月<font color=\"Gainsboro\">●●</font>日、<font color=\"Gainsboro\">●●</font>に対し、調査スコープが原告の認識とず\n",
        "\n",
        "　　　れている懸念があるとして、面談を求め、同月２０日、面談が実施された。\n",
        "\n",
        "　　　原告は、同日、面談に先立ち、「通報情報に関する事実」を、<font color=\"silver\">上司Ａ</font>ＧＭ\n",
        "\n",
        "　　　が必要性の低い資料作成を命じ、若手社員も巻き込まれた（Ｎｏ．４）、\n",
        "\n",
        "　　　ＧＳＴ還付の対応が遅れたため、会計年度が２年を過ぎる「期ずれ」とな\n",
        "\n",
        "　　　る会計処理となった（Ｎｏ．１０）など３０項目（以下「本件３０項目」\n",
        "\n",
        "　　　という。）に分けて整理したパワーポイント資料を作成し、これを<font color=\"Gainsboro\">●●</font>に\n",
        "\n",
        "　　　送付した。（以上につき、乙１６）\n"
      ],
      "metadata": {
        "id": "Pgt2aeln9ws6"
      }
    },
    {
      "cell_type": "markdown",
      "source": [
        "##### 　　<font color=\"silver\">カ　平成30年3月　トップメッセージの発信</font>\n",
        "\n",
        "　　カ　<font color=\"Gainsboro\">●●</font>社長は、平成３１年<font color=\"Gainsboro\">●●</font>月<font color=\"Gainsboro\">●</font>日付けで、被告従業員全体に宛てて\n",
        "\n",
        "　　　「今後の女性活躍推進について（<font color=\"Gainsboro\">●●●●●●●●●●●●●●●●●●</font>\n",
        "\n",
        "　　　<font color=\"Gainsboro\">●</font>）」と題する書面を発した。同書面には、女性活躍に向けた各種取組を\n",
        "\n",
        "　　　次のとおり拡充するなどとして、全ての社員に男女を問わず一層活躍して\n",
        "\n",
        "　　　もらうという基本方針の下、マインド・スキルの向上等を目的とした研修\n",
        "\n",
        "　　　実施（平成３１年度以降）や「新たな成長機会につながる異動（事業所．\n",
        "\n",
        "　　　部所店内等）」（令和２年４月定期異動以降）を行っていく旨等が記\n",
        "\n",
        "　　　載されていた。（争いがない。原告準備書面⑻別紙９及び原告準備書面⑼\n",
        "\n",
        "　　　別紙９〔２頁〕参照）\n"
      ],
      "metadata": {
        "id": "b1Xfad99-k7j"
      }
    },
    {
      "cell_type": "markdown",
      "source": [
        "##### 　　<font color=\"silver\">キ　令和元年10月　本件調査報告２</font>\n",
        "\n",
        "　　キ　法務<font color=\"Gainsboro\">●</font>グループは、令和元年１０月<font color=\"Gainsboro\">●●</font>日、原告に対し、本件調査報告\n",
        "\n",
        "　　　２をした。\n",
        "\n",
        "　　　　本件調査報告２では、平成２８年１月から平成３１年３月までの期間に\n",
        "\n",
        "　　　おいてＧＳＴが課されていたもの等を整理した上で、結論として、一般に\n",
        "\n",
        "　　　ＧＳＴの還付は納税者の権利であり義務ではなく、したがって、ＧＳＴの\n",
        "\n",
        "　　　還付を受けないままでも不正行為等に当たらない、<font color=\"Gainsboro\">●●</font>事業部の還付に関\n",
        "\n",
        "　　　する対応に不備は認められない、調査の過程で<font color=\"silver\">上司Ａ</font>ＧＭが通報事実につ\n",
        "\n",
        "　　　いて隠蔽する、またはパワーハラスメントをするという行為は発見されず、\n",
        "\n",
        "　　　むしろ真摯に、かつ組織的に解決に向けて取り組み、対応を完了したと判\n",
        "\n",
        "　　　断するなどとされ、併せて、本件３０項目についても、個別に、原告が巻\n",
        "\n",
        "　　　き込まれたとする若手社員を含めた関係者にヒアリングをしたが、必要性\n",
        "\n",
        "　　　の低い資料作成を命じた事実は認められなかった（Ｎｏ．４）、ＧＳＴは\n",
        "\n",
        "　　　還付請求をするまで権利の行使が確定しておらず、還付請求をして初めて\n",
        "\n",
        "　　　雑収入として計上できるから、原告のいう「期ずれ」は発生していない\n",
        "\n",
        "　　　（Ｎｏ．１０）などとして、いずれも不正行為等に該当しない旨の調査結\n",
        "\n",
        "　　　果が示されていた。（以上につき、甲１２）\n"
      ],
      "metadata": {
        "id": "usluXu_K-3fq"
      }
    },
    {
      "cell_type": "markdown",
      "source": [
        "##### 　　<font color=\"silver\">ク　令和元年10月　契約書を確認しない理由</font>\n",
        "\n",
        "　　ク　原告は、令和元年１０月<font color=\"Gainsboro\">●●</font>日、同年１２月２日及び同月１０日、<font color=\"Gainsboro\">●●</font>\n",
        "\n",
        "　　　社長をＣＣに入れるなどして、<font color=\"Gainsboro\">●●</font>ＧＭ及び<font color=\"Gainsboro\">●●</font>に対し、本件調査報告２\n",
        "\n",
        "　　　は論点のすり替えである、誤りがあるなどとして、契約書にＧＳＴを課す\n",
        "\n",
        "　　　記載があるか、<font color=\"silver\">子会社</font>の会計仕訳が預り金勘定科目で行われているかなど\n",
        "\n",
        "　　　原告が確認してほしい事項を列挙するなどしたメールを送信したが、<font color=\"Gainsboro\">●●</font>\n",
        "\n",
        "　　　は、同月３日及び同月<font color=\"Gainsboro\">●●</font>日、取引に税金が課されるか否かは、契約書で\n",
        "\n",
        "　　　はなく国が決めることであるので、契約書を確認する必要はない、<font color=\"silver\">子会社</font>\n",
        "\n",
        "　　　の財務諸表については会計監査人から適正意見を得ており、勘定科目につ\n",
        "\n",
        "　　　いてこれ以上調べる必要はないなどと回答するとともに、調査の結論に変\n",
        "\n",
        "　　　更を及ぼさない原告の疑問点については、今後さらに要望等があっても、\n",
        "\n",
        "　　　調べることはないなどと返信した（争いがない。原告準備書面⑻別紙１０\n",
        "\n",
        "　　　～１４参照）。\n",
        "\n",
        "　　　　その後も、原告は、<font color=\"Gainsboro\">●●</font>に対し、<font color=\"silver\">担当</font>が<font color=\"silver\">子会社</font>や税務担当に問い合わせ\n",
        "\n",
        "　　　たメールはないかなどと質問するメールを送信したが、<font color=\"Gainsboro\">●●</font>は、令和２年\n",
        "\n",
        "　　　１月<font color=\"Gainsboro\">●●</font>日、業務上の裁量に属する行為の当否について調査しても、調査\n",
        "\n",
        "　　　結果の結論に変更はなく、これ以上調査する必要を認めないとの判断に至\n",
        "\n",
        "　　　った旨を返信した（乙１７）。\n"
      ],
      "metadata": {
        "id": "2PO14x7DA_CZ"
      }
    },
    {
      "cell_type": "markdown",
      "source": [
        "##### 　　<font color=\"silver\">ケ　令和元年12月　役員等への報告</font>\n",
        "\n",
        "　　ケ　法務<font color=\"Gainsboro\">●</font>グループ担当者は、令和元年１２月９日、<font color=\"Gainsboro\">●●</font>社長を含む関係役\n",
        "\n",
        "　　　員等に対し、本件通報２について、コンプライアンス違反の事実は認めら\n",
        "\n",
        "　　　れなかったなどとする調査結果等を報告した（乙２３）。\n"
      ],
      "metadata": {
        "id": "mcEk7kh1BZYL"
      }
    },
    {
      "cell_type": "markdown",
      "source": [
        "##### 　　<font color=\"silver\">コ　令和2年4月　令和２年度業務分担</font>\n",
        "\n",
        "　　コ　原告は、令和２年４月１日、<font color=\"Gainsboro\">●●●●●</font>部<font color=\"Gainsboro\">●●●●</font>グループに異動\n",
        "\n",
        "　　　し、その担当業務は「グループ内庶務とされた（令和２年度業務分担）\n",
        "\n",
        "　　　（前記前提事実⑵ク）\n"
      ],
      "metadata": {
        "id": "R9jWjwOXBfig"
      }
    },
    {
      "cell_type": "markdown",
      "source": [
        "##### 　⑶　本件措置に至る経緯等 <font color=\"silver\">　本件ＳＮＳでのやりとり</font>\n",
        "\n",
        "　　ア　原告は、令和２年３月<font color=\"Gainsboro\">●●</font>日、本件ＳＮＳに、本投稿は、コンプライア\n",
        "\n",
        "　　　ンスホットライン制度の責任者である<font color=\"Gainsboro\">●●</font>社長に伝えるものであるとした\n",
        "\n",
        "　　　上で、本件各通報について、契約書におけるＧＳＴに関する記載内容等に\n",
        "\n",
        "　　　ついて十分な調査がされていないなどとして、本質や論点がすり替わって\n",
        "\n",
        "　　　いない調査をお願いしたいなどとする投稿をした。\n",
        "\n",
        "　　　　これを受けて、被告法務部担当者は、同日、本件ＳＮＳに、本件につい\n",
        "\n",
        "　　　ては、通報内容を調査した結果、コンプライアンス違反はないとの結論を\n",
        "\n",
        "　　　得て解決済みであるなどと投稿したが、他の従業員から、上記担当者が本\n",
        "\n",
        "　　　件ＳＮＳに書き込むのはモラルハラスメントではないかなどと投稿され、\n",
        "\n",
        "　　　原告も、同年５月２９日及び同年６月<font color=\"Gainsboro\">●●</font>日、事実を明らかにしてほしい、\n",
        "\n",
        "　　　<font color=\"Gainsboro\">●●</font>社長によるコメントをお願いしたいなどと投稿した。\n",
        "\n",
        "　　　　被告秘書部（以下、単に「秘書部」という。）担当者は、同月１６日、\n",
        "\n",
        "　　　本件ＳＮＳに、本投稿については、法務部と協議し、また、<font color=\"Gainsboro\">●●</font>社長とも\n",
        "\n",
        "　　　相談した上で、改めて法務部から直接回答してもらうことになった、本件\n",
        "\n",
        "　　　ＳＮＳは、「<font color=\"Gainsboro\">●●</font>さんとのオープンな情報交換による対話の促進」を目的\n",
        "\n",
        "　　　として開設しているため、この趣旨に則った前向きな意見や提案などの投\n",
        "\n",
        "　　　稿をお待ちするなどと投稿した。（以上につき、甲１、２）\n"
      ],
      "metadata": {
        "id": "tFzymalEBm0S"
      }
    },
    {
      "cell_type": "markdown",
      "source": [
        "　　イ　法務<font color=\"Gainsboro\">●</font>グループは、令和２年６月<font color=\"Gainsboro\">●●</font>日、原告に対し、原告が本件ＳＮ\n",
        "\n",
        "　　　Ｓに投稿した内容について１６項目に整理した上で、契約書の記載内容を\n",
        "\n",
        "　　　改めて調べたが、平成２７年１月に本件豪州企業との間で締結された契約\n",
        "\n",
        "　　　書にはＧＳＴに関する定めはなかったなどとして、これらに回答する書面\n",
        "\n",
        "　　　を送付した（乙１０）。\n"
      ],
      "metadata": {
        "id": "jZjJlV-hB0ag"
      }
    },
    {
      "cell_type": "markdown",
      "source": [
        "　　ウ　その後も原告と法務<font color=\"Gainsboro\">●</font>グループとの間でメールのやり取りがされていた\n",
        "\n",
        "　　　が、原告は、令和２年１０月<font color=\"Gainsboro\">●</font>日から令和３年２月<font color=\"Gainsboro\">●</font>日にかけて、本件Ｓ\n",
        "\n",
        "　　　ＮＳに、法務<font color=\"Gainsboro\">●</font>グループの回答内容を引用するなどしてこれに抗議する投\n",
        "\n",
        "　　　稿を繰り返し行った。\n",
        "\n",
        "　　　　秘書部担当者は、同月<font color=\"Gainsboro\">●●</font>日、本件ＳＮＳに、本件ＳＮＳは幅広い者が\n",
        "\n",
        "　　　閲覧可能であるため、関係者の名誉やプライバシー、情報セキュリティに\n",
        "\n",
        "　　　最大限留意する必要があるとして、今回投稿された内容は、本件ＳＮＳで\n",
        "\n",
        "　　　の返信はせず、個別に返信する旨の投稿をした。（以上につき、甲１）\n"
      ],
      "metadata": {
        "id": "tqroRFXZB_dJ"
      }
    },
    {
      "cell_type": "markdown",
      "source": [
        "　　エ　<font color=\"Gainsboro\">●●●●</font>部秘書グループのＧＭである<font color=\"Gainsboro\">●●●●</font>（以下「<font color=\"Gainsboro\">●●</font>ＧＭ」とい\n",
        "\n",
        "　　　う。）は、同日（令和３年２月<font color=\"Gainsboro\">●●</font>日）、原告に対し、今後、本件につい\n",
        "\n",
        "　　　ての意見等は、本件ＳＮＳではなく、メール等で関係者限りでお願いした\n",
        "\n",
        "　　　い旨を記載したメールを送信した。\n",
        "\n",
        "　　　　これを受けて、原告は、<font color=\"Gainsboro\">●●</font>ＧＭに対し、関係者限りとする情報セキュ\n",
        "\n",
        "　　　リティ要領の根拠を明らかにするよう求め、<font color=\"Gainsboro\">●●</font>ＧＭがこれを説明すると、\n",
        "\n",
        "　　　同年３月<font color=\"Gainsboro\">●●</font>日、本件の投稿において考慮すべきは名誉毀損と理解したの\n",
        "\n",
        "　　　で、今後も引き続き、名誉毀損等を考慮して投稿する、投稿を削除等する\n",
        "\n",
        "　　　場合、名誉毀損等の視点で問題のある具体的な文章を具体的な理由ととも\n",
        "\n",
        "　　　に示してほしいなどと記載したメールを送信した。\n",
        "\n",
        "　　　　<font color=\"Gainsboro\">●●</font>ＧＭは、同月<font color=\"Gainsboro\">●●</font>日、名誉等への配慮は総合的に検討されるべきも\n",
        "\n",
        "　　　のであり、具体的な記載の一部を切り取って判断を行うものではないなど\n",
        "\n",
        "　　　と返信したが、原告は、同日、自らの投稿に名誉毀損等の視点で問題があ\n",
        "\n",
        "　　　るのかまだ分からない、投稿文に問題がある場合は具体的な理由とともに\n",
        "\n",
        "　　　伝えてほしいなどと記載したメールを送信した。（以上につき、乙７）\n"
      ],
      "metadata": {
        "id": "VHMNKI9YCE1A"
      }
    },
    {
      "cell_type": "markdown",
      "source": [
        "　　オ　被告は、令和３年４月<font color=\"Gainsboro\">●</font>日、本件措置をした（前記前提事実⑵コ）。\n"
      ],
      "metadata": {
        "id": "kOMVMMeNCoVY"
      }
    },
    {
      "cell_type": "markdown",
      "source": [
        "#####２　争点１について（内部通報制度における信義則上の義務違反）\n",
        "\n",
        "　〔不利益取扱いの点を除く。］\n"
      ],
      "metadata": {
        "id": "MeO9tg5YDUDS"
      }
    },
    {
      "cell_type": "markdown",
      "source": [
        "##### 　<font color=\"silver\">⑴ア　原告の主張について</font>\n",
        "\n",
        "　⑴ア　原告は、まず、原告が通報窓口担当者に伝えた内容は、特段の理由がな\n",
        "\n",
        "　　　い限り、全て通報情報であり、被告は、内部通報を行った従業員である原\n",
        "\n",
        "　　　告に対し、通報情報に関する事実を確認するための調査を行う信義則上の\n",
        "\n",
        "　　　義務を負うなどとした上で、大要、①原告が、本件通報１の当初から、Ｇ\n",
        "\n",
        "　　　ＳＴの支払手続をした事実及び支払手続をした際の会計計上科目を伝えて、\n",
        "\n",
        "　　　不適切会計のおそれがある旨等を通報していたのに、被告は契約内容及び\n",
        "\n",
        "　　　会計帳簿の確認等をせず、②その後の平成２９年７月２８日等に、原告が、\n",
        "\n",
        "　　　通報情報として、(a)被告と海外企業との契約内容に関すること、(b)<font color=\"silver\">子会社</font>\n",
        "\n",
        "　　　がＧＳＴ相当額の還付を受けた際の被告及び<font color=\"silver\">子会社</font>における会計処理に関\n",
        "\n",
        "　　　すること、(c)原告が<font color=\"silver\">上司Ａ</font>ＧＭにＧＳＴについて確認を行ったタイミング\n",
        "\n",
        "　　　で、<font color=\"silver\">上司Ａ</font>ＧＭから必要性に疑問のある資料作成を３回命じられたこと\n",
        "\n",
        "　　　（本件各業務命令）を伝えるなどしていたのに、被告は契約内容等に加え\n",
        "\n",
        "　　　て上記資料の確認等もせず、③さらに、原告が、本件通報２で、被告と<font color=\"Gainsboro\">●</font>\n",
        "\n",
        "　　　<font color=\"Gainsboro\">●●</font>間の会計処理について疑問視している旨等を伝え、また、調査補助者\n",
        "\n",
        "　　　の<font color=\"Gainsboro\">●●</font>も、平成３１年３月１２日、被告及び<font color=\"silver\">子会社</font>において会計処理が適\n",
        "\n",
        "　　　切であったか否かや、税制及び契約内容を確認した上でＧＳＴの支払を行\n",
        "\n",
        "　　　っていたか否か等を確認する旨メールに記載していたのに、契約内容及び\n",
        "\n",
        "　　　会計帳簿の確認等をしなかったなどとして、もって、被告は調査義務を怠\n",
        "\n",
        "　　　り（上記②(c)については、通報者に対する不利益取扱いの事実又はそのお\n",
        "\n",
        "　　　それのある事実であることを理由に、通報者の保護の徹底を定めた本件規\n",
        "\n",
        "　　　程３．１１⑴上も調査義務等があると主張するようである。）また、本\n",
        "\n",
        "　　　件規程３．１⑴では、調査を実施しない場合には調査しない旨及び理由の\n",
        "\n",
        "　　　通知が求められているのに、被告はこれも怠ったなどと主張する。\n"
      ],
      "metadata": {
        "id": "GP_CaIw-DVoe"
      }
    },
    {
      "cell_type": "markdown",
      "source": [
        "##### 　　<font color=\"silver\">イ-1　内部通報制度の目的について</font>\n",
        "\n",
        "　　<font color=\"silver\">「内部統制に関する基本方針」「グループ行動基準」「コーポレートガバナ\n",
        "\n",
        "　　<font color=\"silver\">ンス・コード」については、なぜか無視している。</font>\n",
        "\n",
        "　　イ　しかしながら、そもそも、前記前提事実⑶のとおり、被告の内部通報制\n",
        "\n",
        "　　　度について定めた本件規程では、その目的について、被告及び被告グルー\n",
        "\n",
        "　　　プ会社（以下「被告等」という。）における不正行為等（法令等に違反す\n",
        "\n",
        "　　　る行為または違反するおそれのある行為）を早期に是正し、もって被告等\n",
        "\n",
        "　　　のコンプライアンス体制を強化することである旨が規定され（１．１）、\n",
        "\n",
        "　　　調査の結果、法令等に違反する事実等が確認された場合は、是正措置及び\n",
        "\n",
        "　　　再発防止策等を検討し、速やかにこれらを実行する（３．５）などと規定\n",
        "\n",
        "　　　されている一方、通報者に対しては、通報を理由とした不利益取扱いの禁\n",
        "\n",
        "　　　止（２．４、３．１１）や調査結果等の通知（３．６⑴）が定められるに\n",
        "\n",
        "　　　とどまっていることに照らすと、被告の内部通報における調査等は、基本\n",
        "\n",
        "　　　的に、不正行為等を早期に発見、是正して被告等の業務の適正化を図るた\n",
        "\n",
        "　　　めのものであって、通報者個人のためにされるものではないというべきで\n",
        "\n",
        "　　　ある。\n"
      ],
      "metadata": {
        "id": "x89Grr78EhnQ"
      }
    },
    {
      "cell_type": "markdown",
      "source": [
        "##### 　　<font color=\"silver\">イ-2　最高裁第一小法廷判決について</font>\n",
        "\n",
        "　　<font color=\"silver\">控訴審では、「そうでない限り…」については、原審独自の解釈であること\n",
        "\n",
        "　　を主張する予定。そんなこと最高裁では示していない。</font>\n",
        "\n",
        "　　　　そうすると、不正行為等によって直接被害を受けた者等が、不正行為等\n",
        "\n",
        "　　　を通報した場合は格別（最高裁平成３０年２月１５日第一小法廷判決・集\n",
        "\n",
        "　　　民２５８号４３頁参照）、そうでない限り、被告が、通報者個人に対し、\n",
        "\n",
        "　　　当然に信義則上、調査等をする法的義務を負うということはできないとい\n",
        "\n",
        "　　　うべきである。そして、原告が通報をしたと主張する不正行為等は、上記\n",
        "\n",
        "　　　②(c)の点を除き、不適切会計等、これによって原告が直接被害を受けるよ\n",
        "\n",
        "　　　うなものではないから、被告が、原告に対し、当然に信義則上の調査義務\n",
        "\n",
        "　　　等を負っていたということはできない。\n"
      ],
      "metadata": {
        "id": "vDBfiz1tEwhH"
      }
    },
    {
      "cell_type": "markdown",
      "source": [
        "##### 　　<font color=\"silver\">ウ-1　調査をしない場合にその旨を通知する規定について</font>\n",
        "\n",
        "　　<font color=\"silver\">控訴審では、「特定した上で…」について反論する。ポスターには「あれ？\n",
        "\n",
        "　　<font color=\"silver\">これって、もしかして…些細な違和感私たちにご相談ください」となっている</font>\n",
        "\n",
        "　　ウ　この点をおくとしても、本件規程上、通報情報とは通報窓口に対してな\n",
        "\n",
        "　　　された通報に係る情報をいうと定義され（１．２⑹）、通報とは、不正行\n",
        "\n",
        "　　　為等として対象を特定した上でその内容を告げることを前提とするものと\n",
        "\n",
        "　　　解される（１．２⑸参照）から、本件規程の解釈としても、本件フォーム\n",
        "\n",
        "　　　上で事実経過の説明として記載されたにすぎない事項や、調査の過程で調\n",
        "\n",
        "　　　査補助者に告げたにすぎない疑問事項等が、当然に通報又は通報情報とし\n",
        "\n",
        "　　　て調査の対象になるとはいえず、これらについて調査をしない場合であっ\n",
        "\n",
        "　　　ても、逐一、その旨や理由の通知が求められるものともいえない。さらに、"
      ],
      "metadata": {
        "id": "0k750NmeFnuM"
      }
    },
    {
      "cell_type": "markdown",
      "source": [
        "##### 　　<font color=\"silver\">ウ-2　通報情報に関する事実を確認するための調査について</font>\n",
        "\n",
        "　　<font color=\"silver\">これは原告も理解している。ただし、契約書や会計帳簿を確認しない一方で\n",
        "\n",
        "　　<font color=\"silver\">違法でもないＧＳＴの還付対象があるかを確認していることは不合理。\n",
        "\n",
        "　　　本件規程上、調査とは、通報情報に関する事実を確認するための調査と定\n",
        "\n",
        "　　　義され（１．２⑼）、これは法令等に違反する事実又は違反するおそれの\n",
        "\n",
        "　　　ある事実の確認を目的とするものと解される（３．５参照）から、必ずし\n",
        "\n",
        "　　　も上記各事実の判断に影響しない事実までもが調査の対象になるとは解さ\n",
        "\n",
        "　　　れず、また、調査の具体的方法についても、通報者の希望に沿って行うな\n",
        "\n",
        "　　　どとも規定されていないから、被告の合理的裁量に委ねられているという\n",
        "\n",
        "　　　べきである。\n",
        "\n"
      ],
      "metadata": {
        "id": "p0ujYT7W58CT"
      }
    },
    {
      "cell_type": "markdown",
      "source": [
        "##### 　　<font color=\"silver\">ウ-3　本件通報１について</font>\n",
        "\n",
        "　　<font color=\"silver\">控訴審では、原告が契約書の確認について伝えていた旨を伝えていたこと、</font>\n",
        "\n",
        "　　<font color=\"silver\">また、通常業務において、GSTは、特段の取り決めがない限り支払うことは</font>\n",
        "\n",
        "　　<font color=\"silver\">ないことを主張する。</font>\n",
        "\n",
        "　　　　そして、本件通報１において通報窓口に送られた本件フォームの「法令\n",
        "\n",
        "　　　等違反の具体的な内容」欄には、「内容」として「海外取引で支払った当\n",
        "\n",
        "　　　社宛の請求書の金額について、付加価値税が含まれていた。」「その付加\n",
        "\n",
        "　　　価値税の還付は豪州関連会社の<font color=\"silver\">子会社</font>に納付された。」などと記載されて\n",
        "\n",
        "　　　おり、原告主張の会計計上科目については、その後に「なお、付加価値税\n",
        "\n",
        "　　　分の金額は経費で計上されたままである。」などと補足され、また、「経\n",
        "\n",
        "　　　緯」として、振替処理などは未確認であるなどと記載されたにすぎなかっ\n",
        "\n",
        "　　　たのであるから、法務グループが、本件通報１の対象を、被告の納付した\n",
        "\n",
        "　　　ＧＳＴについて<font color=\"silver\">子会社</font>が還付を受けることと捉えた上で、経理部に問い合\n",
        "\n",
        "　　　わせて、平成２８年１２月２８日、上記に問題はなく、直ちにコンプライ\n",
        "\n",
        "　　　アンス違反とはいえないなどと回答し、平成２９年８月１４日、同旨の本\n",
        "\n",
        "　　　件調査報告１をしたとしても、何ら不合理とはいえない。また、原告が、\n",
        "\n",
        "　　　この間の同年７月２８日、法務グループの<font color=\"silver\">担当</font>に対し、税務処理として確\n",
        "\n",
        "　　　認してほしい事項や<font color=\"silver\">上司Ａ</font>ＧＭに確認してほしい事項を記載したファイル\n",
        "\n",
        "　　　を送信し、その中で、「経緯」等として、原告が<font color=\"silver\">上司Ａ</font>ＧＭにＧＳＴにつ\n",
        "\n",
        "　　　いて問い合わせたタイミングで本件各業務命令を受けた旨等を記載したこ\n",
        "\n",
        "　　　とは上記認定のとおりであるけれども、これらは、本件通報１に関して<font color=\"Gainsboro\">●</font>\n",
        "\n",
        "　　　<font color=\"Gainsboro\">●</font>とやり取りをする中で原告が列挙した様々な疑問事項等の一部にすぎず、\n",
        "\n",
        "　　　個別に不正行為等として告げるものでも、本件通報１を理由とした不利益\n",
        "\n",
        "　　　な取扱いがあったとするものでもなかったから、被告が本件調査報告１の\n",
        "\n",
        "　　　段階でこれらについて調査しなかったとしても、信義則上の調査義務を怠\n",
        "\n",
        "　　　ったとか、通報者の保護の徹底について定めた本件規程３．１１⑴に違反\n",
        "\n",
        "　　　したなどということはできない。\n"
      ],
      "metadata": {
        "id": "Ms54gFotF-DO"
      }
    },
    {
      "cell_type": "markdown",
      "source": [
        "##### 　　<font color=\"silver\">ウ-4　本件通報２について</font>\n",
        "\n",
        "　　<font color=\"silver\">「調査の対象となる事項（調査スコープ）」とは、どのことを言っているの</font>\n",
        "\n",
        "　　<font color=\"silver\">かわからない。</font>\n",
        "\n",
        "　　　　さらに、本件通報２において通報窓口に送られた本件フォームの記載は、\n",
        "\n",
        "　　　「２０１６年１月７日～２０１７年１０月１６日で起きた一連の内容につ\n",
        "\n",
        "　　　いて、コンプライアンス違反となる事象の有無を確認させていただきた\n",
        "\n",
        "　　　い。」などとして時系列で出来事等を列挙するのみで、通報の対象とした\n",
        "\n",
        "　　　不正行為等が判然としないものであり、そのため、<font color=\"Gainsboro\">●●</font>は、原告との面談\n",
        "\n",
        "　　　等を実施した上で、ＧＳＴの還付処理等の適切な是正措置が完了している\n",
        "\n",
        "　　　か、是正措置の過程で問題の隠蔽や原告への圧迫があったかについて、コ\n",
        "\n",
        "　　　ンプライアンス違反の有無を調査回答したいなどと整理したものの、原告\n",
        "\n",
        "　　　が、原告の列挙する疑問点を調査してほしい旨のメールを繰り返し送信す\n",
        "\n",
        "　　　るなどし、最終的に、自ら本件３０項目に分けて「通報情報に関する事\n",
        "\n",
        "　　　実」等を整理した資料を送付するなどしたものである。そして、法務<font color=\"Gainsboro\">●</font>グ\n",
        "\n",
        "　　　ループは、過去の一定期間においてＧＳＴが課されていたもの等を整理し、\n",
        "\n",
        "　　　関係者へのヒアリングを実施するなどの調査をした上、令和元年１０月２\n",
        "\n",
        "　　　５日、本件調査報告２において、<font color=\"Gainsboro\">●●</font>事業部の還付に関する対応に不備は\n",
        "\n",
        "　　　認められないなどとした上で、原告が整理した本件３０項目全てについて、\n",
        "\n",
        "　　　不正行為等に該当しない旨個別に回答したものである。原告は、上記回答\n",
        "\n",
        "　　　に際して、被告が契約書や会計仕訳を確認しなかったことを論難するが、\n",
        "\n",
        "　　　上記のとおり、調査の具体的方法は被告の合理的裁量に委ねられていると\n",
        "\n",
        "　　　ころ、法務<font color=\"Gainsboro\">●</font>グループは、原告に対し、取引に税金が課されるかは国が決\n",
        "\n",
        "　　　めることであるので、契約書を確認する必要はない、<font color=\"silver\">子会社</font>の財務諸表に\n",
        "\n",
        "　　　ついては会計監査人から適正意見を得ており、勘定科目についてこれ以上\n",
        "\n",
        "　　　調べる必要はないなどと説明しており（認定事実⑵ク）、これらの対応が\n",
        "\n",
        "　　　不合理とはいえない。また、原告は、<font color=\"Gainsboro\">●●</font>が、平成３１年３月１２日、被\n",
        "\n",
        "　　　告及び<font color=\"silver\">子会社</font>において会計処理が適切であったか否かや、税制及び契約内\n",
        "\n",
        "　　　容を確認した上でＧＳＴの支払を行っていたか否かを確認する旨メールに\n",
        "\n",
        "　　　記載していたこと（乙１６［７頁〕）を指摘するが、これらの記載は、原\n",
        "\n",
        "　　　告作成の「調査の対象となる事項（調査スコープ）」記載の各項目につい\n",
        "\n",
        "　　　て、法務グループが行う調査との関係を説明したものであり、原告の希望\n",
        "\n",
        "　　　に従って契約内容及び会計帳簿等を確認する旨述べたものでないことは、\n",
        "\n",
        "　　　その文脈上、明らかである。\n"
      ],
      "metadata": {
        "id": "2ZQ7FZ92Hriu"
      }
    },
    {
      "cell_type": "markdown",
      "source": [
        "　　エ　以上によれば、本件各通報を受けた被告の調査等の対応に関し、原告に\n",
        "\n",
        "　　　対する信義則上の義務違反があったということはできない。\n"
      ],
      "metadata": {
        "id": "-0f31tk6InCX"
      }
    },
    {
      "cell_type": "markdown",
      "source": [
        "##### 　<font color=\"silver\">⑵　通報情報の厳重な管理について</font>\n",
        "\n",
        "　⑵　次に、原告は、被告が、本件通報１に関し、法務グループと<font color=\"Gainsboro\">●●●●●●</font>\n",
        "\n",
        "　　<font color=\"Gainsboro\">●●</font>グループのＧＭ間で協議をしたこと、本件通報２に関し、関係者のヒア\n",
        "\n",
        "　　リング調査を実施したことが、本件規程３．１２の通報情報の厳重な管理を\n",
        "\n",
        "　　行わなかったものとして、信義則上の義務違反である旨主張する。\n",
        "\n",
        "　　　しかしながら、上記認定のとおり、原告は、本件通報１に関し、平成２９\n",
        "\n",
        "　　年１月５日、<font color=\"silver\">担当</font>に対し、ＧＭ間の相談、確認については被告の判断に任せ\n",
        "\n",
        "　　る、<font color=\"silver\">上司Ａ</font>ＧＭに本件を伝えると通知者を特定できることはほぼ間違いがな\n",
        "\n",
        "　　いが、覚悟しているなどと告げ、本件通報２に関しても、平成３０年１２月\n",
        "\n",
        "　　１９日、<font color=\"Gainsboro\">●●</font>に対し、<font color=\"silver\">上司Ａ</font>ＧＭや<font color=\"silver\">担当</font>等に直接確認してもらうことは全く\n",
        "\n",
        "　　構わないなどと告げていたのであるから、上記ＧＭ間での協議や<font color=\"silver\">上司Ａ</font>ＧＭ\n",
        "\n",
        "　　等へのヒアリングを原告が了承していたことは明らかであり、調査の具体的\n",
        "\n",
        "　　方法等は被告の合理的裁量に委ねられることにも照らすと、被告が、ＧＭ間\n",
        "\n",
        "　　での協議や関係者のヒアリング調査を実施したことが信義則上の義務違反で\n",
        "\n",
        "　　あるなどとは到底いえない。\n",
        "\n",
        "　　　これに対し、原告は、契約内容や会計帳簿等の資料を確認すればＧＭ間で\n",
        "\n",
        "　　の協議やヒアリング調査の必要はないなどと主張するが、調査の具体的方法\n",
        "\n",
        "　　等は被告の合理的裁量に委ねられるなどの上記認定説示の事情に照らし、上\n",
        "\n",
        "　　記判断を左右するものではない。\n"
      ],
      "metadata": {
        "id": "n6FSHNelIuDd"
      }
    },
    {
      "cell_type": "markdown",
      "source": [
        "##### 　<font color=\"silver\">⑶　その他の規定内容について</font>\n",
        "\n",
        "　⑶ア　さらに、原告は、本件各通報について、被告が、①通報情報の役員等へ\n",
        "\n",
        "　　　の報告（本件規程３．２⑴、３．６⑶）や、②再度、通報窓口に通報する\n",
        "\n",
        "　　　ことが可能であることの原告への通知（同３．６⑴エ）を行っていなかっ\n",
        "\n",
        "　　　たなどとして、信義則上の義務違反があると主張する。\n",
        "\n",
        "　　イ　しかしながら、まず、上記①について、本件規程において、通報情報や\n",
        "\n",
        "　　　調査結果等を関係役員等に対して報告するなどと規定されている（３．２\n",
        "\n",
        "　　　３．６⑶）のは、被告等の業務の適正化のために（上記⑴イ参照）関係\n",
        "\n",
        "　　　役員等がこれらの情報を把握できるようにするためのものと解され、通報\n",
        "\n",
        "　　　者のためのものとは解されないから、被告が原告に対してその旨の義務を\n",
        "\n",
        "　　　負うものとはいえない。\n",
        "\n",
        "　　　　この点をおくとしても、上記認定のとおり、本件通報２については、通\n",
        "\n",
        "　　　報情報やその調査結果について、関係役員等への報告がされている。原告\n",
        "\n",
        "　　　は、上記報告は、通報情報の内容が把握できるものではないなどと論難す\n",
        "\n",
        "　　　るが、本件通報２は、本件フォームの記載上、何を不正行為等と捉えてい\n",
        "\n",
        "　　　るのか判然としないものであったことは上記認定説示のとおりである上、\n",
        "\n",
        "　　　法務<font color=\"Gainsboro\">●</font>グループ担当者の要約（認定事実⑵エ）が明らかに不正確であるな\n",
        "\n",
        "　　　どともいえない。一方で、本件通報１については、関係役員等への報告が\n",
        "\n",
        "　　　されていないものの、被告は、本件規程上の通報（１．２⑸）ではなく、\n",
        "\n",
        "　　　相談（２．３）として取り扱ったためであると説明しており、上記認定の\n",
        "\n",
        "　　　とおり、本件通報１は「将来的に法人税法等の法令違反に該当する可能性\n",
        "\n",
        "　　　があるのか、分からないため、相談させていただきたい。」との内容であ\n",
        "\n",
        "　　　ったことに照らすと、上記取扱いが不合理ともいえない（なお、関係役員\n",
        "\n",
        "　　　等への報告以外の調査等の場面では、本件通報１が本件規程上の通報と同\n",
        "\n",
        "　　　様に取り扱われるべきことは被告も争っていない。）。\n",
        "\n",
        "　　ウ　次に、上記②については、本件規程３．６⑴エは、調査結果の報告に際\n",
        "\n",
        "　　　し、(a)本通知後、不正行為等が是正されない場合、(b)不正行為等が再発す\n",
        "\n",
        "　　　るおそれがある場合、又は(c)通報を行ったことを理由とした不利益な取扱\n",
        "\n",
        "　　　いを受けた場合は、再度、通報窓口に通報することが可能であることを通\n",
        "\n",
        "　　　知すると規定しているが、本件各調査報告は不正行為等がないとするもの\n",
        "\n",
        "　　　であったから、上記(a)(b)について通知の必要はない。\n",
        "\n",
        "　　　　そして、被告は、本件各調査報告に際して上記(c)についても通知してい\n",
        "\n",
        "　　　ないものの、上記認定のとおり、原告は、本件調査報告１前の平成２９年\n",
        "\n",
        "　　　１月５日<font color=\"silver\">担当</font>から、ＧＭ間の協議に先立ち、仮に相談者が特定されても、\n",
        "\n",
        "　　　不利益は決してないよう制度は整っている、何らか不利益を課されている\n",
        "\n",
        "　　　旨の連絡があれば、すぐに対応するなどと伝えられ、本件調査報告２前の\n",
        "\n",
        "　　　平成３１年３月１２日にも、<font color=\"Gainsboro\">●●</font>から、本件規程３．６⑴ア～エの事項が\n",
        "\n",
        "　　　引用されて、調査終了後はこれらを通知することになる旨を伝えられてい\n",
        "\n",
        "　　　たから、本件各調査報告に際して上記(c)を通知されなかったとしても、原\n",
        "\n",
        "　　　告に実質的な不利益が生じるものとは認められない。\n",
        "\n",
        "　　エ　以上によれば、上記①②いずれについても、被告の原告に対する損害賠\n",
        "\n",
        "　　　償責任を生じさせることとなる信義則上の義務違反があったものとするこ\n",
        "\n",
        "　　　とはできない。\n",
        "\n",
        "　⑷　原告はその他るる主張するが、いずれも採用できず、本件各通報に関する\n",
        "\n",
        "　　被告の対応（ただし、不利益取扱いの点を除く。）について、信義則上の義\n",
        "\n",
        "　　務違反があったとはいえない。\n"
      ],
      "metadata": {
        "id": "rZziB09iJK_s"
      }
    },
    {
      "cell_type": "markdown",
      "source": [
        "#####３　争点２について（不利益取扱い及びパワーハラスメントの有無）\n"
      ],
      "metadata": {
        "id": "QJV8XQ90JVKR"
      }
    },
    {
      "cell_type": "markdown",
      "source": [
        "#####４　争点３について（人材育成体制における信義則上の義務違反等）\n"
      ],
      "metadata": {
        "id": "lQPr5oppJVxK"
      }
    },
    {
      "cell_type": "markdown",
      "source": [
        "#####５　小括\n"
      ],
      "metadata": {
        "id": "Vf2AdqI7JftS"
      }
    },
    {
      "cell_type": "markdown",
      "source": [
        "#####第４　結論\n"
      ],
      "metadata": {
        "id": "JPwVZO8OJiNl"
      }
    },
    {
      "cell_type": "markdown",
      "source": [
        "#####参考資料）最高裁第一小法廷判決について（イビデン事件）\n",
        "\n",
        "[『グループ内部通報制度にかかわる判例』 ～平成３０年２月１５日最高裁第一小法廷判決～ | 弁護士法人](https://agl-law.jp/column/%e3%80%80%e3%80%8e%e3%82%b0%e3%83%ab%e3%83%bc%e3%83%97%e5%86%85%e9%83%a8%e9%80%9a%e5%a0%b1%e5%88%b6%e5%ba%a6%e3%81%ab%e3%81%8b%e3%81%8b%e3%82%8f%e3%82%8b%e5%88%a4%e4%be%8b%e3%80%8f-%ef%bd%9e%e5%b9%b3/)\n",
        "\n",
        "[最高裁平成３０年２月１５日第一小法廷判決　判決文](https://www.courts.go.jp/app/files/hanrei_jp/458/087458_hanrei.pdf)"
      ],
      "metadata": {
        "id": "B0MM8Fdkgw_0"
      }
    },
    {
      "cell_type": "markdown",
      "source": [
        "---\n",
        "## <font color=\"SteelBlue\">おわりに</font>\n",
        "<br>\n",
        "\n",
        "- ご覧いただきましてありがとうございます\n",
        "- 判決文では、状況の把握が困難かと思いますので\n",
        "- 補足でご説明します\n",
        "\n",
        "<br>\n",
        "\n",
        "## <font color=\"SteelBlue\">いったい何があったのか</font>\n",
        "\n",
        "- コトはそんなに難しいことではないです。要は、間違って払いすぎていたということですね\n",
        "\n",
        "- 間違って払ってしまった金額について、上司は、「還付を受けるので大丈夫」と原告に説明しました\n",
        "\n",
        "- ですが、上司は、原告に説明した還付の手続きなど行っていなかったということです\n",
        "\n",
        "- 原告が内部通報を行った後、業務の移管(?)を行い、そして、被告側が行ったことは\n",
        "\n",
        "- 子会社が還付を受けたことにして、子会社が該当金額を被告に送金することでした\n",
        "<br><br>\n",
        " - 上記について、原告は証明することができませんが、そういうことなのだろうと思います\n",
        "\n",
        "<br>\n",
        "\n",
        "## <font color=\"SteelBlue\">原告はなぜ通報したのか</font>\n",
        "\n",
        "- 間違った請求額は、単なる間違いなので、請求先に間違いがあることを伝えればいいだけなのですが\n",
        "\n",
        "- これを行わず、その後も、間違った金額を払い続けていました。支払い手続きを行っていたのは原告です\n",
        "\n",
        "- 原告は、役務対価ではない金銭を支払う手続きを行っていました\n",
        "\n",
        "- そのため、金銭の支払いが問題となったときに、原告個人の問題とされるリスクがありました\n",
        "<br><br>\n",
        " - 上記の背景は？\n",
        "<br>\n",
        "業務プロセスの問題点を上司に伝えた際、上司が聞き入れないことがありました\n",
        "<br>\n",
        "結局、その問題のある業務プロセスにより、トラブルがが生じました\n",
        "<br>\n",
        "その時に、上司が行ったことは、原告個人の問題とすることでした\n",
        "<br>\n",
        "かつて、そんなことがありました\n",
        "\n",
        "<br>\n",
        "\n",
        "## <font color=\"SteelBlue\">原告の通報の問題点は？</font>\n",
        "\n",
        "- 裁判所が指摘するとおり、不正行為等として対象を特定していなかったことは、原告の過ちでした\n",
        "\n",
        "- また、ＧＳＴは通常業務では支払うことはないので、ＧＳＴを支払っていることを伝えることで\n",
        "\n",
        "- 当然に、契約書や会計帳簿を確認することは行われるものと思ってしまいました\n",
        "<br><br>\n",
        " - 自分のなかでの常識が相手にとっても常識であるとは限らないということですね\n",
        "\n",
        "<br>\n",
        "\n",
        "## <font color=\"SteelBlue\">これからどうするのか？</font>\n",
        "\n",
        "- 本判決でも引用している最高裁判決では、内部通報制度について、一定の義務があることを認めてはいますが\n",
        "\n",
        "- 「どのような相談の申出があった場合にいかなる措置を講ずるべきか」については\n",
        "\n",
        "- 判例も少なく、まだ、よくわかっていないところがあるようです\n",
        "\n",
        "- ちゃんと最後まで争って、判例として残し、これから通報しようとする人にとって参考となるような判例を残したいです\n",
        "<br><br>\n",
        " - 最高裁で争ってもいい事案だと思うのだけど、どうかな\n",
        "<br><br>"
      ],
      "metadata": {
        "id": "BNDaFpixoC7w"
      }
    }
  ]
}